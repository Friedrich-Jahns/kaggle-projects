{
 "cells": [
  {
   "cell_type": "code",
   "execution_count": 1,
   "id": "67d93e83",
   "metadata": {
    "_cell_guid": "b1076dfc-b9ad-4769-8c92-a6c4dae69d19",
    "_uuid": "8f2839f25d086af736a60e9eeb907d3b93b6e0e5",
    "execution": {
     "iopub.execute_input": "2025-05-22T12:54:47.164133Z",
     "iopub.status.busy": "2025-05-22T12:54:47.163838Z",
     "iopub.status.idle": "2025-05-22T12:54:50.071462Z",
     "shell.execute_reply": "2025-05-22T12:54:50.070903Z"
    },
    "papermill": {
     "duration": 2.913194,
     "end_time": "2025-05-22T12:54:50.072767",
     "exception": false,
     "start_time": "2025-05-22T12:54:47.159573",
     "status": "completed"
    },
    "tags": []
   },
   "outputs": [],
   "source": [
    "import pandas as pd\n",
    "import numpy as np\n",
    "from pathlib import Path\n",
    "import xgboost as xgb\n",
    "import os\n",
    "import matplotlib.pyplot as plt\n",
    "from sklearn.model_selection import train_test_split\n",
    "from sklearn.metrics import mean_squared_error\n",
    "from sklearn.model_selection import GridSearchCV\n",
    "from sklearn.metrics import make_scorer, mean_squared_error\n",
    "from sklearn.model_selection import RandomizedSearchCV,TimeSeriesSplit"
   ]
  },
  {
   "cell_type": "code",
   "execution_count": 2,
   "id": "d74f3da7",
   "metadata": {
    "execution": {
     "iopub.execute_input": "2025-05-22T12:54:50.079529Z",
     "iopub.status.busy": "2025-05-22T12:54:50.078858Z",
     "iopub.status.idle": "2025-05-22T12:54:50.083578Z",
     "shell.execute_reply": "2025-05-22T12:54:50.082754Z"
    },
    "papermill": {
     "duration": 0.009091,
     "end_time": "2025-05-22T12:54:50.084807",
     "exception": false,
     "start_time": "2025-05-22T12:54:50.075716",
     "status": "completed"
    },
    "tags": []
   },
   "outputs": [],
   "source": [
    "def rmspe(y_true,y_pred):\n",
    "    y_true = np.array(y_true)\n",
    "    y_pred = np.array(y_pred)\n",
    "\n",
    "    mask = y_true != True\n",
    "    y_true_filtered = y_true[mask]\n",
    "    y_pred_filtered = y_pred[mask]\n",
    "\n",
    "    if len(y_true_filtered) == 0:\n",
    "        return float('inf')\n",
    "\n",
    "    return np.sqrt(np.mean(np.square((y_true_filtered-y_pred_filtered)/y_true_filtered)))*100"
   ]
  },
  {
   "cell_type": "code",
   "execution_count": 3,
   "id": "2dc95472",
   "metadata": {
    "execution": {
     "iopub.execute_input": "2025-05-22T12:54:50.090762Z",
     "iopub.status.busy": "2025-05-22T12:54:50.090251Z",
     "iopub.status.idle": "2025-05-22T12:54:50.097497Z",
     "shell.execute_reply": "2025-05-22T12:54:50.096724Z"
    },
    "papermill": {
     "duration": 0.011174,
     "end_time": "2025-05-22T12:54:50.098532",
     "exception": false,
     "start_time": "2025-05-22T12:54:50.087358",
     "status": "completed"
    },
    "tags": []
   },
   "outputs": [
    {
     "name": "stdout",
     "output_type": "stream",
     "text": [
      "/kaggle/input/rossmann-store-sales/train.csv\n",
      "/kaggle/input/rossmann-store-sales/test.csv\n"
     ]
    }
   ],
   "source": [
    "\n",
    "paths = []\n",
    "for dirname, _, filenames in os.walk('/kaggle/input'):\n",
    "    for filename in filenames:\n",
    "        if str(filename) == 'sample_submission.csv' or str(filename) == 'store.csv':\n",
    "            if str(filename) == 'store.csv':\n",
    "                store_data_path = Path(os.path.join(dirname, filename))\n",
    "            continue\n",
    "        print(os.path.join(dirname, filename))\n",
    "        paths.append(Path(os.path.join(dirname, filename)))"
   ]
  },
  {
   "cell_type": "code",
   "execution_count": 4,
   "id": "e5ab846a",
   "metadata": {
    "execution": {
     "iopub.execute_input": "2025-05-22T12:54:50.104219Z",
     "iopub.status.busy": "2025-05-22T12:54:50.103849Z",
     "iopub.status.idle": "2025-05-22T12:54:51.190420Z",
     "shell.execute_reply": "2025-05-22T12:54:51.189591Z"
    },
    "papermill": {
     "duration": 1.090799,
     "end_time": "2025-05-22T12:54:51.191800",
     "exception": false,
     "start_time": "2025-05-22T12:54:50.101001",
     "status": "completed"
    },
    "tags": []
   },
   "outputs": [],
   "source": [
    "dat = {}\n",
    "for i in paths:\n",
    "    with open(i,'r') as f:\n",
    "        dat[i.stem] = pd.read_csv(f,low_memory=False)"
   ]
  },
  {
   "cell_type": "code",
   "execution_count": 5,
   "id": "81baac47",
   "metadata": {
    "execution": {
     "iopub.execute_input": "2025-05-22T12:54:51.199159Z",
     "iopub.status.busy": "2025-05-22T12:54:51.198922Z",
     "iopub.status.idle": "2025-05-22T12:54:51.207432Z",
     "shell.execute_reply": "2025-05-22T12:54:51.206893Z"
    },
    "papermill": {
     "duration": 0.012804,
     "end_time": "2025-05-22T12:54:51.208531",
     "exception": false,
     "start_time": "2025-05-22T12:54:51.195727",
     "status": "completed"
    },
    "tags": []
   },
   "outputs": [],
   "source": [
    "with open(store_data_path,'r') as f:\n",
    "    store_data = pd.read_csv(f)"
   ]
  },
  {
   "cell_type": "code",
   "execution_count": 6,
   "id": "ed001fca",
   "metadata": {
    "execution": {
     "iopub.execute_input": "2025-05-22T12:54:51.214244Z",
     "iopub.status.busy": "2025-05-22T12:54:51.214044Z",
     "iopub.status.idle": "2025-05-22T12:54:51.480838Z",
     "shell.execute_reply": "2025-05-22T12:54:51.480283Z"
    },
    "papermill": {
     "duration": 0.271163,
     "end_time": "2025-05-22T12:54:51.482202",
     "exception": false,
     "start_time": "2025-05-22T12:54:51.211039",
     "status": "completed"
    },
    "tags": []
   },
   "outputs": [],
   "source": [
    "for i in dat:\n",
    "    dat[i]['Date'] = pd.to_datetime(dat[i]['Date'])\n",
    "    dat[i][\"Year\"] = dat[i][\"Date\"].dt.year\n",
    "    dat[i][\"Month\"] = dat[i][\"Date\"].dt.month\n",
    "    dat[i][\"Day\"] = dat[i][\"Date\"].dt.day\n",
    "    dat[i][\"Weekday\"] = dat[i][\"Date\"].dt.weekday\n",
    "    dat[i].drop(\"Date\", axis=1, inplace=True)\n",
    "    dat[i].drop(\"StateHoliday\", axis=1, inplace=True)"
   ]
  },
  {
   "cell_type": "code",
   "execution_count": 7,
   "id": "7137500c",
   "metadata": {
    "execution": {
     "iopub.execute_input": "2025-05-22T12:54:51.488467Z",
     "iopub.status.busy": "2025-05-22T12:54:51.488259Z",
     "iopub.status.idle": "2025-05-22T12:54:51.498207Z",
     "shell.execute_reply": "2025-05-22T12:54:51.497716Z"
    },
    "papermill": {
     "duration": 0.014169,
     "end_time": "2025-05-22T12:54:51.499234",
     "exception": false,
     "start_time": "2025-05-22T12:54:51.485065",
     "status": "completed"
    },
    "tags": []
   },
   "outputs": [],
   "source": [
    "store_data = store_data.fillna(store_data.mean(numeric_only=True))\n",
    "# store_data = store_data.drop(['PromoInterval'],axis = 1)\n",
    "# for col in ['StoreType', 'Assortment']:\n",
    "#     store_data[col], _ = pd.factorize(store_data[col])\n",
    "store_data = pd.get_dummies(store_data, columns=['StoreType', 'Assortment','PromoInterval'])"
   ]
  },
  {
   "cell_type": "code",
   "execution_count": 8,
   "id": "d92d7d75",
   "metadata": {
    "execution": {
     "iopub.execute_input": "2025-05-22T12:54:51.505214Z",
     "iopub.status.busy": "2025-05-22T12:54:51.505010Z",
     "iopub.status.idle": "2025-05-22T12:54:51.687794Z",
     "shell.execute_reply": "2025-05-22T12:54:51.687196Z"
    },
    "papermill": {
     "duration": 0.187394,
     "end_time": "2025-05-22T12:54:51.689194",
     "exception": false,
     "start_time": "2025-05-22T12:54:51.501800",
     "status": "completed"
    },
    "tags": []
   },
   "outputs": [],
   "source": [
    "dat['train'] = pd.merge(dat['train'], store_data, on=\"Store\", how=\"left\")"
   ]
  },
  {
   "cell_type": "code",
   "execution_count": 9,
   "id": "101311c8",
   "metadata": {
    "execution": {
     "iopub.execute_input": "2025-05-22T12:54:51.695899Z",
     "iopub.status.busy": "2025-05-22T12:54:51.695654Z",
     "iopub.status.idle": "2025-05-22T12:54:51.939276Z",
     "shell.execute_reply": "2025-05-22T12:54:51.938698Z"
    },
    "papermill": {
     "duration": 0.248505,
     "end_time": "2025-05-22T12:54:51.940601",
     "exception": false,
     "start_time": "2025-05-22T12:54:51.692096",
     "status": "completed"
    },
    "tags": []
   },
   "outputs": [],
   "source": [
    "X = dat['train'].drop([\"Sales\",'Customers'], axis=1)\n",
    "y = dat['train']['Sales']\n",
    "\n",
    "X_train, X_val, y_train, y_val = train_test_split(X, y, test_size=0.2, random_state=42)"
   ]
  },
  {
   "cell_type": "code",
   "execution_count": 10,
   "id": "d8de72d4",
   "metadata": {
    "execution": {
     "iopub.execute_input": "2025-05-22T12:54:51.947192Z",
     "iopub.status.busy": "2025-05-22T12:54:51.946667Z",
     "iopub.status.idle": "2025-05-22T12:54:51.950332Z",
     "shell.execute_reply": "2025-05-22T12:54:51.949785Z"
    },
    "papermill": {
     "duration": 0.007859,
     "end_time": "2025-05-22T12:54:51.951285",
     "exception": false,
     "start_time": "2025-05-22T12:54:51.943426",
     "status": "completed"
    },
    "tags": []
   },
   "outputs": [],
   "source": [
    "rmse_scorer = make_scorer(mean_squared_error, squared=False, greater_is_better=False)\n",
    "\n",
    "model = xgb.XGBRegressor()\n",
    "\n",
    "tscv = TimeSeriesSplit(n_splits=5)"
   ]
  },
  {
   "cell_type": "code",
   "execution_count": 11,
   "id": "43c9a739",
   "metadata": {
    "execution": {
     "iopub.execute_input": "2025-05-22T12:54:51.957080Z",
     "iopub.status.busy": "2025-05-22T12:54:51.956852Z",
     "iopub.status.idle": "2025-05-22T12:54:51.960461Z",
     "shell.execute_reply": "2025-05-22T12:54:51.959958Z"
    },
    "papermill": {
     "duration": 0.007662,
     "end_time": "2025-05-22T12:54:51.961410",
     "exception": false,
     "start_time": "2025-05-22T12:54:51.953748",
     "status": "completed"
    },
    "tags": []
   },
   "outputs": [],
   "source": [
    "search = xgb.XGBRegressor(\n",
    "    device='cuda',\n",
    "    subsample=0.6,\n",
    "    reg_lambda=5,\n",
    "    reg_alpha=0,\n",
    "    n_estimators=500,\n",
    "    max_depth=10,\n",
    "    learning_rate=0.1,\n",
    "    gamma=1,\n",
    "    colsample_bytree=1.0\n",
    ")"
   ]
  },
  {
   "cell_type": "code",
   "execution_count": 12,
   "id": "cf2e5521",
   "metadata": {
    "execution": {
     "iopub.execute_input": "2025-05-22T12:54:51.967082Z",
     "iopub.status.busy": "2025-05-22T12:54:51.966669Z",
     "iopub.status.idle": "2025-05-22T12:54:51.969657Z",
     "shell.execute_reply": "2025-05-22T12:54:51.969150Z"
    },
    "papermill": {
     "duration": 0.006723,
     "end_time": "2025-05-22T12:54:51.970536",
     "exception": false,
     "start_time": "2025-05-22T12:54:51.963813",
     "status": "completed"
    },
    "tags": []
   },
   "outputs": [],
   "source": [
    "# best_features = ['Store', 'Open', 'Promo', 'SchoolHoliday', 'Year', 'Month', 'Day', 'Weekday', 'StoreType_a', 'StoreType_b', 'StoreType_c', 'StoreType_d', 'Assortment_a', 'Assortment_b', 'Assortment_c', 'CompetitionDistance', 'CompetitionOpenSinceMonth', 'CompetitionOpenSinceYear', 'Promo2', 'Promo2SinceWeek', 'Promo2SinceYear']\n"
   ]
  },
  {
   "cell_type": "code",
   "execution_count": 13,
   "id": "127ddffa",
   "metadata": {
    "execution": {
     "iopub.execute_input": "2025-05-22T12:54:51.976173Z",
     "iopub.status.busy": "2025-05-22T12:54:51.975983Z",
     "iopub.status.idle": "2025-05-22T12:54:51.985026Z",
     "shell.execute_reply": "2025-05-22T12:54:51.984507Z"
    },
    "papermill": {
     "duration": 0.013017,
     "end_time": "2025-05-22T12:54:51.986138",
     "exception": false,
     "start_time": "2025-05-22T12:54:51.973121",
     "status": "completed"
    },
    "tags": []
   },
   "outputs": [],
   "source": [
    "dat['test'] = pd.merge(dat['test'], store_data, on=\"Store\", how=\"left\")"
   ]
  },
  {
   "cell_type": "code",
   "execution_count": 14,
   "id": "9948ed3b",
   "metadata": {
    "execution": {
     "iopub.execute_input": "2025-05-22T12:54:51.992296Z",
     "iopub.status.busy": "2025-05-22T12:54:51.992104Z",
     "iopub.status.idle": "2025-05-22T12:55:03.972304Z",
     "shell.execute_reply": "2025-05-22T12:55:03.971571Z"
    },
    "papermill": {
     "duration": 11.984512,
     "end_time": "2025-05-22T12:55:03.973485",
     "exception": false,
     "start_time": "2025-05-22T12:54:51.988973",
     "status": "completed"
    },
    "tags": []
   },
   "outputs": [
    {
     "data": {
      "text/html": [
       "<style>#sk-container-id-1 {color: black;background-color: white;}#sk-container-id-1 pre{padding: 0;}#sk-container-id-1 div.sk-toggleable {background-color: white;}#sk-container-id-1 label.sk-toggleable__label {cursor: pointer;display: block;width: 100%;margin-bottom: 0;padding: 0.3em;box-sizing: border-box;text-align: center;}#sk-container-id-1 label.sk-toggleable__label-arrow:before {content: \"▸\";float: left;margin-right: 0.25em;color: #696969;}#sk-container-id-1 label.sk-toggleable__label-arrow:hover:before {color: black;}#sk-container-id-1 div.sk-estimator:hover label.sk-toggleable__label-arrow:before {color: black;}#sk-container-id-1 div.sk-toggleable__content {max-height: 0;max-width: 0;overflow: hidden;text-align: left;background-color: #f0f8ff;}#sk-container-id-1 div.sk-toggleable__content pre {margin: 0.2em;color: black;border-radius: 0.25em;background-color: #f0f8ff;}#sk-container-id-1 input.sk-toggleable__control:checked~div.sk-toggleable__content {max-height: 200px;max-width: 100%;overflow: auto;}#sk-container-id-1 input.sk-toggleable__control:checked~label.sk-toggleable__label-arrow:before {content: \"▾\";}#sk-container-id-1 div.sk-estimator input.sk-toggleable__control:checked~label.sk-toggleable__label {background-color: #d4ebff;}#sk-container-id-1 div.sk-label input.sk-toggleable__control:checked~label.sk-toggleable__label {background-color: #d4ebff;}#sk-container-id-1 input.sk-hidden--visually {border: 0;clip: rect(1px 1px 1px 1px);clip: rect(1px, 1px, 1px, 1px);height: 1px;margin: -1px;overflow: hidden;padding: 0;position: absolute;width: 1px;}#sk-container-id-1 div.sk-estimator {font-family: monospace;background-color: #f0f8ff;border: 1px dotted black;border-radius: 0.25em;box-sizing: border-box;margin-bottom: 0.5em;}#sk-container-id-1 div.sk-estimator:hover {background-color: #d4ebff;}#sk-container-id-1 div.sk-parallel-item::after {content: \"\";width: 100%;border-bottom: 1px solid gray;flex-grow: 1;}#sk-container-id-1 div.sk-label:hover label.sk-toggleable__label {background-color: #d4ebff;}#sk-container-id-1 div.sk-serial::before {content: \"\";position: absolute;border-left: 1px solid gray;box-sizing: border-box;top: 0;bottom: 0;left: 50%;z-index: 0;}#sk-container-id-1 div.sk-serial {display: flex;flex-direction: column;align-items: center;background-color: white;padding-right: 0.2em;padding-left: 0.2em;position: relative;}#sk-container-id-1 div.sk-item {position: relative;z-index: 1;}#sk-container-id-1 div.sk-parallel {display: flex;align-items: stretch;justify-content: center;background-color: white;position: relative;}#sk-container-id-1 div.sk-item::before, #sk-container-id-1 div.sk-parallel-item::before {content: \"\";position: absolute;border-left: 1px solid gray;box-sizing: border-box;top: 0;bottom: 0;left: 50%;z-index: -1;}#sk-container-id-1 div.sk-parallel-item {display: flex;flex-direction: column;z-index: 1;position: relative;background-color: white;}#sk-container-id-1 div.sk-parallel-item:first-child::after {align-self: flex-end;width: 50%;}#sk-container-id-1 div.sk-parallel-item:last-child::after {align-self: flex-start;width: 50%;}#sk-container-id-1 div.sk-parallel-item:only-child::after {width: 0;}#sk-container-id-1 div.sk-dashed-wrapped {border: 1px dashed gray;margin: 0 0.4em 0.5em 0.4em;box-sizing: border-box;padding-bottom: 0.4em;background-color: white;}#sk-container-id-1 div.sk-label label {font-family: monospace;font-weight: bold;display: inline-block;line-height: 1.2em;}#sk-container-id-1 div.sk-label-container {text-align: center;}#sk-container-id-1 div.sk-container {/* jupyter's `normalize.less` sets `[hidden] { display: none; }` but bootstrap.min.css set `[hidden] { display: none !important; }` so we also need the `!important` here to be able to override the default hidden behavior on the sphinx rendered scikit-learn.org. See: https://github.com/scikit-learn/scikit-learn/issues/21755 */display: inline-block !important;position: relative;}#sk-container-id-1 div.sk-text-repr-fallback {display: none;}</style><div id=\"sk-container-id-1\" class=\"sk-top-container\"><div class=\"sk-text-repr-fallback\"><pre>XGBRegressor(base_score=None, booster=None, callbacks=None,\n",
       "             colsample_bylevel=None, colsample_bynode=None,\n",
       "             colsample_bytree=1.0, device=&#x27;cuda&#x27;, early_stopping_rounds=None,\n",
       "             enable_categorical=False, eval_metric=None, feature_types=None,\n",
       "             gamma=1, grow_policy=None, importance_type=None,\n",
       "             interaction_constraints=None, learning_rate=0.1, max_bin=None,\n",
       "             max_cat_threshold=None, max_cat_to_onehot=None,\n",
       "             max_delta_step=None, max_depth=10, max_leaves=None,\n",
       "             min_child_weight=None, missing=nan, monotone_constraints=None,\n",
       "             multi_strategy=None, n_estimators=500, n_jobs=None,\n",
       "             num_parallel_tree=None, random_state=None, ...)</pre><b>In a Jupyter environment, please rerun this cell to show the HTML representation or trust the notebook. <br />On GitHub, the HTML representation is unable to render, please try loading this page with nbviewer.org.</b></div><div class=\"sk-container\" hidden><div class=\"sk-item\"><div class=\"sk-estimator sk-toggleable\"><input class=\"sk-toggleable__control sk-hidden--visually\" id=\"sk-estimator-id-1\" type=\"checkbox\" checked><label for=\"sk-estimator-id-1\" class=\"sk-toggleable__label sk-toggleable__label-arrow\">XGBRegressor</label><div class=\"sk-toggleable__content\"><pre>XGBRegressor(base_score=None, booster=None, callbacks=None,\n",
       "             colsample_bylevel=None, colsample_bynode=None,\n",
       "             colsample_bytree=1.0, device=&#x27;cuda&#x27;, early_stopping_rounds=None,\n",
       "             enable_categorical=False, eval_metric=None, feature_types=None,\n",
       "             gamma=1, grow_policy=None, importance_type=None,\n",
       "             interaction_constraints=None, learning_rate=0.1, max_bin=None,\n",
       "             max_cat_threshold=None, max_cat_to_onehot=None,\n",
       "             max_delta_step=None, max_depth=10, max_leaves=None,\n",
       "             min_child_weight=None, missing=nan, monotone_constraints=None,\n",
       "             multi_strategy=None, n_estimators=500, n_jobs=None,\n",
       "             num_parallel_tree=None, random_state=None, ...)</pre></div></div></div></div></div>"
      ],
      "text/plain": [
       "XGBRegressor(base_score=None, booster=None, callbacks=None,\n",
       "             colsample_bylevel=None, colsample_bynode=None,\n",
       "             colsample_bytree=1.0, device='cuda', early_stopping_rounds=None,\n",
       "             enable_categorical=False, eval_metric=None, feature_types=None,\n",
       "             gamma=1, grow_policy=None, importance_type=None,\n",
       "             interaction_constraints=None, learning_rate=0.1, max_bin=None,\n",
       "             max_cat_threshold=None, max_cat_to_onehot=None,\n",
       "             max_delta_step=None, max_depth=10, max_leaves=None,\n",
       "             min_child_weight=None, missing=nan, monotone_constraints=None,\n",
       "             multi_strategy=None, n_estimators=500, n_jobs=None,\n",
       "             num_parallel_tree=None, random_state=None, ...)"
      ]
     },
     "execution_count": 14,
     "metadata": {},
     "output_type": "execute_result"
    }
   ],
   "source": [
    "search.fit(X_train, y_train)"
   ]
  },
  {
   "cell_type": "code",
   "execution_count": 15,
   "id": "29fab622",
   "metadata": {
    "execution": {
     "iopub.execute_input": "2025-05-22T12:55:03.980229Z",
     "iopub.status.busy": "2025-05-22T12:55:03.980002Z",
     "iopub.status.idle": "2025-05-22T12:55:04.595466Z",
     "shell.execute_reply": "2025-05-22T12:55:04.594725Z"
    },
    "papermill": {
     "duration": 0.62016,
     "end_time": "2025-05-22T12:55:04.596652",
     "exception": false,
     "start_time": "2025-05-22T12:55:03.976492",
     "status": "completed"
    },
    "tags": []
   },
   "outputs": [
    {
     "name": "stderr",
     "output_type": "stream",
     "text": [
      "/usr/local/lib/python3.11/dist-packages/xgboost/core.py:160: UserWarning: [12:55:04] WARNING: /workspace/src/common/error_msg.cc:58: Falling back to prediction using DMatrix due to mismatched devices. This might lead to higher memory usage and slower performance. XGBoost is running on: cuda:0, while the input data is on: cpu.\n",
      "Potential solutions:\n",
      "- Use a data structure that matches the device ordinal in the booster.\n",
      "- Set the device for booster before call to inplace_predict.\n",
      "\n",
      "This warning will only be shown once.\n",
      "\n",
      "  warnings.warn(smsg, UserWarning)\n"
     ]
    },
    {
     "name": "stdout",
     "output_type": "stream",
     "text": [
      "RMSE: 657.5363769245085 ,\n"
     ]
    },
    {
     "data": {
      "image/png": "[encoded data removed]",
      "text/plain": [
       "<Figure size 640x480 with 1 Axes>"
      ]
     },
     "metadata": {},
     "output_type": "display_data"
    }
   ],
   "source": [
    "y_pred = search.predict(X_val)\n",
    "\n",
    "y_pred = np.maximum(0, y_pred)\n",
    "y_test = np.maximum(0, y_val)\n",
    "\n",
    "rmse_value = np.sqrt(mean_squared_error(y_test, y_pred))\n",
    "\n",
    "print(\"RMSE:\", rmse_value,',')\n",
    "#RMSLE: 662.7738319695426\n",
    "#RMSLE: 659.0778028080498\n",
    "#RMSE: 659.0778028080498\n",
    "plt.plot([662.7738319695426,\n",
    "          659.0778028080498,\n",
    "          659.0778028080498,\n",
    "          657.5363769245085,\n",
    "\n",
    "])\n",
    "plt.show()"
   ]
  },
  {
   "cell_type": "code",
   "execution_count": 16,
   "id": "1a1e00c4",
   "metadata": {
    "execution": {
     "iopub.execute_input": "2025-05-22T12:55:04.604193Z",
     "iopub.status.busy": "2025-05-22T12:55:04.603970Z",
     "iopub.status.idle": "2025-05-22T12:55:04.769341Z",
     "shell.execute_reply": "2025-05-22T12:55:04.768769Z"
    },
    "papermill": {
     "duration": 0.17045,
     "end_time": "2025-05-22T12:55:04.770612",
     "exception": false,
     "start_time": "2025-05-22T12:55:04.600162",
     "status": "completed"
    },
    "tags": []
   },
   "outputs": [],
   "source": [
    "X_test = dat['test']\n",
    "\n",
    "submission = pd.DataFrame()\n",
    "\n",
    "submission['Id'] = X_test['Id']\n",
    "\n",
    "submission['Sales'] = search.predict(X_test.drop(columns=['Id'])).clip(0)\n",
    "\n",
    "submission.to_csv(\"submission.csv\", index=False)\n"
   ]
  }
 ],
 "metadata": {
  "kaggle": {
   "accelerator": "gpu",
   "dataSources": [
    {
     "databundleVersionId": 860645,
     "sourceId": 4594,
     "sourceType": "competition"
    }
   ],
   "dockerImageVersionId": 31011,
   "isGpuEnabled": true,
   "isInternetEnabled": true,
   "language": "python",
   "sourceType": "notebook"
  },
  "kernelspec": {
   "display_name": "Python 3",
   "language": "python",
   "name": "python3"
  },
  "language_info": {
   "codemirror_mode": {
    "name": "ipython",
    "version": 3
   },
   "file_extension": ".py",
   "mimetype": "text/x-python",
   "name": "python",
   "nbconvert_exporter": "python",
   "pygments_lexer": "ipython3",
   "version": "3.11.11"
  },
  "papermill": {
   "default_parameters": {},
   "duration": 22.177088,
   "end_time": "2025-05-22T12:55:05.291893",
   "environment_variables": {},
   "exception": null,
   "input_path": "__notebook__.ipynb",
   "output_path": "__notebook__.ipynb",
   "parameters": {},
   "start_time": "2025-05-22T12:54:43.114805",
   "version": "2.6.0"
  }
 },
 "nbformat": 4,
 "nbformat_minor": 5
}

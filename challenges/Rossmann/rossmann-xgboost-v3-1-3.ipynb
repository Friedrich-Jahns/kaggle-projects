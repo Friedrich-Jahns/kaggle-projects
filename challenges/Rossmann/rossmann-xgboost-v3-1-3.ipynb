{
 "cells": [
  {
   "cell_type": "code",
   "execution_count": 1,
   "id": "b263db24",
   "metadata": {
    "_cell_guid": "b1076dfc-b9ad-4769-8c92-a6c4dae69d19",
    "_uuid": "8f2839f25d086af736a60e9eeb907d3b93b6e0e5",
    "execution": {
     "iopub.execute_input": "2025-05-14T15:17:22.164408Z",
     "iopub.status.busy": "2025-05-14T15:17:22.164106Z",
     "iopub.status.idle": "2025-05-14T15:17:25.755090Z",
     "shell.execute_reply": "2025-05-14T15:17:25.754376Z"
    },
    "papermill": {
     "duration": 3.597483,
     "end_time": "2025-05-14T15:17:25.756752",
     "exception": false,
     "start_time": "2025-05-14T15:17:22.159269",
     "status": "completed"
    },
    "tags": []
   },
   "outputs": [],
   "source": [
    "import pandas as pd\n",
    "import numpy as np\n",
    "from pathlib import Path\n",
    "import xgboost as xgb\n",
    "import os\n",
    "import matplotlib.pyplot as plt\n",
    "from sklearn.model_selection import train_test_split\n",
    "from sklearn.metrics import mean_squared_error\n",
    "from sklearn.model_selection import GridSearchCV\n",
    "from sklearn.metrics import make_scorer, mean_squared_error\n",
    "from sklearn.model_selection import RandomizedSearchCV,TimeSeriesSplit"
   ]
  },
  {
   "cell_type": "code",
   "execution_count": 2,
   "id": "00e29a81",
   "metadata": {
    "execution": {
     "iopub.execute_input": "2025-05-14T15:17:25.764301Z",
     "iopub.status.busy": "2025-05-14T15:17:25.763928Z",
     "iopub.status.idle": "2025-05-14T15:17:25.768849Z",
     "shell.execute_reply": "2025-05-14T15:17:25.768212Z"
    },
    "papermill": {
     "duration": 0.00981,
     "end_time": "2025-05-14T15:17:25.770109",
     "exception": false,
     "start_time": "2025-05-14T15:17:25.760299",
     "status": "completed"
    },
    "tags": []
   },
   "outputs": [],
   "source": [
    "def rmspe(y_true,y_pred):\n",
    "    y_true = np.array(y_true)\n",
    "    y_pred = np.array(y_pred)\n",
    "\n",
    "    mask = y_true != True\n",
    "    y_true_filtered = y_true[mask]\n",
    "    y_pred_filtered = y_pred[mask]\n",
    "\n",
    "    if len(y_true_filtered) == 0:\n",
    "        return float('inf')\n",
    "\n",
    "    return np.sqrt(np.mean(np.square((y_true_filtered-y_pred_filtered)/y_true_filtered)))*100"
   ]
  },
  {
   "cell_type": "code",
   "execution_count": 3,
   "id": "e4505ca7",
   "metadata": {
    "execution": {
     "iopub.execute_input": "2025-05-14T15:17:25.776792Z",
     "iopub.status.busy": "2025-05-14T15:17:25.776546Z",
     "iopub.status.idle": "2025-05-14T15:17:25.784503Z",
     "shell.execute_reply": "2025-05-14T15:17:25.783616Z"
    },
    "papermill": {
     "duration": 0.012604,
     "end_time": "2025-05-14T15:17:25.785722",
     "exception": false,
     "start_time": "2025-05-14T15:17:25.773118",
     "status": "completed"
    },
    "tags": []
   },
   "outputs": [
    {
     "name": "stdout",
     "output_type": "stream",
     "text": [
      "/kaggle/input/rossmann-store-sales/train.csv\n",
      "/kaggle/input/rossmann-store-sales/test.csv\n"
     ]
    }
   ],
   "source": [
    "\n",
    "paths = []\n",
    "for dirname, _, filenames in os.walk('/kaggle/input'):\n",
    "    for filename in filenames:\n",
    "        if str(filename) == 'sample_submission.csv' or str(filename) == 'store.csv':\n",
    "            if str(filename) == 'store.csv':\n",
    "                store_data_path = Path(os.path.join(dirname, filename))\n",
    "            continue\n",
    "        print(os.path.join(dirname, filename))\n",
    "        paths.append(Path(os.path.join(dirname, filename)))"
   ]
  },
  {
   "cell_type": "code",
   "execution_count": 4,
   "id": "68550b0e",
   "metadata": {
    "execution": {
     "iopub.execute_input": "2025-05-14T15:17:25.792721Z",
     "iopub.status.busy": "2025-05-14T15:17:25.792451Z",
     "iopub.status.idle": "2025-05-14T15:17:26.872144Z",
     "shell.execute_reply": "2025-05-14T15:17:26.871300Z"
    },
    "papermill": {
     "duration": 1.084952,
     "end_time": "2025-05-14T15:17:26.873826",
     "exception": false,
     "start_time": "2025-05-14T15:17:25.788874",
     "status": "completed"
    },
    "tags": []
   },
   "outputs": [
    {
     "name": "stderr",
     "output_type": "stream",
     "text": [
      "/tmp/ipykernel_19/4288781958.py:4: DtypeWarning: Columns (7) have mixed types. Specify dtype option on import or set low_memory=False.\n",
      "  dat[i.stem] = pd.read_csv(f)\n"
     ]
    }
   ],
   "source": [
    "dat = {}\n",
    "for i in paths:\n",
    "    with open(i,'r') as f:\n",
    "        dat[i.stem] = pd.read_csv(f)"
   ]
  },
  {
   "cell_type": "code",
   "execution_count": 5,
   "id": "f704d3db",
   "metadata": {
    "execution": {
     "iopub.execute_input": "2025-05-14T15:17:26.881370Z",
     "iopub.status.busy": "2025-05-14T15:17:26.881091Z",
     "iopub.status.idle": "2025-05-14T15:17:26.891157Z",
     "shell.execute_reply": "2025-05-14T15:17:26.890460Z"
    },
    "papermill": {
     "duration": 0.015235,
     "end_time": "2025-05-14T15:17:26.892514",
     "exception": false,
     "start_time": "2025-05-14T15:17:26.877279",
     "status": "completed"
    },
    "tags": []
   },
   "outputs": [],
   "source": [
    "with open(store_data_path,'r') as f:\n",
    "    store_data = pd.read_csv(f)"
   ]
  },
  {
   "cell_type": "code",
   "execution_count": 6,
   "id": "df711c2c",
   "metadata": {
    "execution": {
     "iopub.execute_input": "2025-05-14T15:17:26.901135Z",
     "iopub.status.busy": "2025-05-14T15:17:26.900521Z",
     "iopub.status.idle": "2025-05-14T15:17:27.242909Z",
     "shell.execute_reply": "2025-05-14T15:17:27.242230Z"
    },
    "papermill": {
     "duration": 0.34775,
     "end_time": "2025-05-14T15:17:27.244607",
     "exception": false,
     "start_time": "2025-05-14T15:17:26.896857",
     "status": "completed"
    },
    "tags": []
   },
   "outputs": [],
   "source": [
    "for i in dat:\n",
    "    dat[i]['Date'] = pd.to_datetime(dat[i]['Date'])\n",
    "    dat[i][\"Year\"] = dat[i][\"Date\"].dt.year\n",
    "    dat[i][\"Month\"] = dat[i][\"Date\"].dt.month\n",
    "    dat[i][\"Day\"] = dat[i][\"Date\"].dt.day\n",
    "    dat[i][\"Weekday\"] = dat[i][\"Date\"].dt.weekday\n",
    "    dat[i].drop(\"Date\", axis=1, inplace=True)\n",
    "    dat[i].drop(\"StateHoliday\", axis=1, inplace=True)"
   ]
  },
  {
   "cell_type": "code",
   "execution_count": 7,
   "id": "7d41ce0f",
   "metadata": {
    "execution": {
     "iopub.execute_input": "2025-05-14T15:17:27.253638Z",
     "iopub.status.busy": "2025-05-14T15:17:27.252818Z",
     "iopub.status.idle": "2025-05-14T15:17:27.263138Z",
     "shell.execute_reply": "2025-05-14T15:17:27.262492Z"
    },
    "papermill": {
     "duration": 0.01618,
     "end_time": "2025-05-14T15:17:27.264507",
     "exception": false,
     "start_time": "2025-05-14T15:17:27.248327",
     "status": "completed"
    },
    "tags": []
   },
   "outputs": [],
   "source": [
    "store_data = store_data.fillna(store_data.mean(numeric_only=True))\n",
    "store_data = store_data.drop(['PromoInterval'],axis = 1)\n",
    "for col in ['StoreType', 'Assortment']:\n",
    "    store_data[col], _ = pd.factorize(store_data[col])"
   ]
  },
  {
   "cell_type": "code",
   "execution_count": 8,
   "id": "8e3f2a36",
   "metadata": {
    "execution": {
     "iopub.execute_input": "2025-05-14T15:17:27.272376Z",
     "iopub.status.busy": "2025-05-14T15:17:27.271807Z",
     "iopub.status.idle": "2025-05-14T15:17:27.527499Z",
     "shell.execute_reply": "2025-05-14T15:17:27.526783Z"
    },
    "papermill": {
     "duration": 0.261118,
     "end_time": "2025-05-14T15:17:27.529083",
     "exception": false,
     "start_time": "2025-05-14T15:17:27.267965",
     "status": "completed"
    },
    "tags": []
   },
   "outputs": [],
   "source": [
    "dat['train'] = pd.merge(dat['train'], store_data, on=\"Store\", how=\"left\")"
   ]
  },
  {
   "cell_type": "code",
   "execution_count": 9,
   "id": "0b5f9380",
   "metadata": {
    "execution": {
     "iopub.execute_input": "2025-05-14T15:17:27.536370Z",
     "iopub.status.busy": "2025-05-14T15:17:27.536125Z",
     "iopub.status.idle": "2025-05-14T15:17:27.788708Z",
     "shell.execute_reply": "2025-05-14T15:17:27.787997Z"
    },
    "papermill": {
     "duration": 0.257947,
     "end_time": "2025-05-14T15:17:27.790359",
     "exception": false,
     "start_time": "2025-05-14T15:17:27.532412",
     "status": "completed"
    },
    "tags": []
   },
   "outputs": [],
   "source": [
    "X = dat['train'].drop([\"Sales\",'Customers'], axis=1)\n",
    "y = dat['train']['Sales']\n",
    "\n",
    "X_train, X_val, y_train, y_val = train_test_split(X, y, test_size=0.2, random_state=42)"
   ]
  },
  {
   "cell_type": "code",
   "execution_count": 10,
   "id": "9026e448",
   "metadata": {
    "execution": {
     "iopub.execute_input": "2025-05-14T15:17:27.797402Z",
     "iopub.status.busy": "2025-05-14T15:17:27.797128Z",
     "iopub.status.idle": "2025-05-14T15:17:27.801307Z",
     "shell.execute_reply": "2025-05-14T15:17:27.800540Z"
    },
    "papermill": {
     "duration": 0.009155,
     "end_time": "2025-05-14T15:17:27.802573",
     "exception": false,
     "start_time": "2025-05-14T15:17:27.793418",
     "status": "completed"
    },
    "tags": []
   },
   "outputs": [],
   "source": [
    "rmse_scorer = make_scorer(mean_squared_error, squared=False, greater_is_better=False)\n",
    "\n",
    "model = xgb.XGBRegressor()\n",
    "\n",
    "tscv = TimeSeriesSplit(n_splits=5)"
   ]
  },
  {
   "cell_type": "code",
   "execution_count": 11,
   "id": "f5d8e141",
   "metadata": {
    "execution": {
     "iopub.execute_input": "2025-05-14T15:17:27.809485Z",
     "iopub.status.busy": "2025-05-14T15:17:27.809240Z",
     "iopub.status.idle": "2025-05-14T15:17:27.814141Z",
     "shell.execute_reply": "2025-05-14T15:17:27.813372Z"
    },
    "papermill": {
     "duration": 0.009834,
     "end_time": "2025-05-14T15:17:27.815410",
     "exception": false,
     "start_time": "2025-05-14T15:17:27.805576",
     "status": "completed"
    },
    "tags": []
   },
   "outputs": [],
   "source": [
    "# param_grid = {\n",
    "#     'n_estimators': [100, 300, 500],\n",
    "#     'max_depth': [3, 6, 10],\n",
    "#     'learning_rate': [0.01, 0.05, 0.1],\n",
    "#     'subsample': [0.6, 0.8, 1.0],\n",
    "#     'colsample_bytree': [0.6, 0.8, 1.0],\n",
    "#     'gamma': [0, 1, 5],\n",
    "#     'reg_alpha': [0, 0.1, 1],\n",
    "#     'reg_lambda': [1, 2, 5],\n",
    "# }\n",
    "\n",
    "\n",
    "\n",
    "\n",
    "param_grid = {'subsample': [0.6], 'reg_lambda': [5], 'reg_alpha': [0], 'n_estimators': [500], 'max_depth': [10], 'learning_rate': [0.1], 'gamma': [1], 'colsample_bytree': [1.0]}\n",
    "\n",
    "search = RandomizedSearchCV(\n",
    "    estimator=xgb.XGBRegressor(device='cuda'),\n",
    "    param_distributions=param_grid,\n",
    "    n_iter=100,\n",
    "    scoring=rmse_scorer,\n",
    "    cv=tscv,\n",
    "    verbose=0,\n",
    "    n_jobs=-1,\n",
    "    random_state=42\n",
    ")"
   ]
  },
  {
   "cell_type": "code",
   "execution_count": 12,
   "id": "c9dbf052",
   "metadata": {
    "execution": {
     "iopub.execute_input": "2025-05-14T15:17:27.822031Z",
     "iopub.status.busy": "2025-05-14T15:17:27.821768Z",
     "iopub.status.idle": "2025-05-14T15:17:27.825819Z",
     "shell.execute_reply": "2025-05-14T15:17:27.825022Z"
    },
    "papermill": {
     "duration": 0.008857,
     "end_time": "2025-05-14T15:17:27.827150",
     "exception": false,
     "start_time": "2025-05-14T15:17:27.818293",
     "status": "completed"
    },
    "tags": []
   },
   "outputs": [],
   "source": [
    "best_features = ['Store', 'Open', 'Promo', 'SchoolHoliday', 'Year', 'Month', 'Day', 'Weekday', 'StoreType', 'Assortment', 'CompetitionDistance', 'CompetitionOpenSinceMonth', 'CompetitionOpenSinceYear', 'Promo2', 'Promo2SinceWeek', 'Promo2SinceYear']\n"
   ]
  },
  {
   "cell_type": "code",
   "execution_count": 13,
   "id": "872f0ca6",
   "metadata": {
    "execution": {
     "iopub.execute_input": "2025-05-14T15:17:27.834377Z",
     "iopub.status.busy": "2025-05-14T15:17:27.833699Z",
     "iopub.status.idle": "2025-05-14T15:17:27.847582Z",
     "shell.execute_reply": "2025-05-14T15:17:27.846888Z"
    },
    "papermill": {
     "duration": 0.018803,
     "end_time": "2025-05-14T15:17:27.848965",
     "exception": false,
     "start_time": "2025-05-14T15:17:27.830162",
     "status": "completed"
    },
    "tags": []
   },
   "outputs": [],
   "source": [
    "dat['test'] = pd.merge(dat['test'], store_data, on=\"Store\", how=\"left\")"
   ]
  },
  {
   "cell_type": "code",
   "execution_count": 14,
   "id": "beffdee5",
   "metadata": {
    "execution": {
     "iopub.execute_input": "2025-05-14T15:17:27.855811Z",
     "iopub.status.busy": "2025-05-14T15:17:27.855550Z",
     "iopub.status.idle": "2025-05-14T15:18:20.122063Z",
     "shell.execute_reply": "2025-05-14T15:18:20.121055Z"
    },
    "papermill": {
     "duration": 52.271468,
     "end_time": "2025-05-14T15:18:20.123489",
     "exception": false,
     "start_time": "2025-05-14T15:17:27.852021",
     "status": "completed"
    },
    "tags": []
   },
   "outputs": [
    {
     "name": "stderr",
     "output_type": "stream",
     "text": [
      "/usr/local/lib/python3.11/dist-packages/sklearn/model_selection/_search.py:305: UserWarning: The total space of parameters 1 is smaller than n_iter=100. Running 1 iterations. For exhaustive searches, use GridSearchCV.\n",
      "  warnings.warn(\n",
      "/usr/local/lib/python3.11/dist-packages/xgboost/core.py:160: UserWarning: [15:17:56] WARNING: /workspace/src/common/error_msg.cc:58: Falling back to prediction using DMatrix due to mismatched devices. This might lead to higher memory usage and slower performance. XGBoost is running on: cuda:0, while the input data is on: cpu.\n",
      "Potential solutions:\n",
      "- Use a data structure that matches the device ordinal in the booster.\n",
      "- Set the device for booster before call to inplace_predict.\n",
      "\n",
      "This warning will only be shown once.\n",
      "\n",
      "  warnings.warn(smsg, UserWarning)\n",
      "/usr/local/lib/python3.11/dist-packages/xgboost/core.py:160: UserWarning: [15:17:59] WARNING: /workspace/src/common/error_msg.cc:58: Falling back to prediction using DMatrix due to mismatched devices. This might lead to higher memory usage and slower performance. XGBoost is running on: cuda:0, while the input data is on: cpu.\n",
      "Potential solutions:\n",
      "- Use a data structure that matches the device ordinal in the booster.\n",
      "- Set the device for booster before call to inplace_predict.\n",
      "\n",
      "This warning will only be shown once.\n",
      "\n",
      "  warnings.warn(smsg, UserWarning)\n",
      "/usr/local/lib/python3.11/dist-packages/xgboost/core.py:160: UserWarning: [15:18:00] WARNING: /workspace/src/common/error_msg.cc:58: Falling back to prediction using DMatrix due to mismatched devices. This might lead to higher memory usage and slower performance. XGBoost is running on: cuda:0, while the input data is on: cpu.\n",
      "Potential solutions:\n",
      "- Use a data structure that matches the device ordinal in the booster.\n",
      "- Set the device for booster before call to inplace_predict.\n",
      "\n",
      "This warning will only be shown once.\n",
      "\n",
      "  warnings.warn(smsg, UserWarning)\n",
      "/usr/local/lib/python3.11/dist-packages/xgboost/core.py:160: UserWarning: [15:18:01] WARNING: /workspace/src/common/error_msg.cc:58: Falling back to prediction using DMatrix due to mismatched devices. This might lead to higher memory usage and slower performance. XGBoost is running on: cuda:0, while the input data is on: cpu.\n",
      "Potential solutions:\n",
      "- Use a data structure that matches the device ordinal in the booster.\n",
      "- Set the device for booster before call to inplace_predict.\n",
      "\n",
      "This warning will only be shown once.\n",
      "\n",
      "  warnings.warn(smsg, UserWarning)\n"
     ]
    },
    {
     "data": {
      "text/html": [
       "<style>#sk-container-id-1 {color: black;background-color: white;}#sk-container-id-1 pre{padding: 0;}#sk-container-id-1 div.sk-toggleable {background-color: white;}#sk-container-id-1 label.sk-toggleable__label {cursor: pointer;display: block;width: 100%;margin-bottom: 0;padding: 0.3em;box-sizing: border-box;text-align: center;}#sk-container-id-1 label.sk-toggleable__label-arrow:before {content: \"▸\";float: left;margin-right: 0.25em;color: #696969;}#sk-container-id-1 label.sk-toggleable__label-arrow:hover:before {color: black;}#sk-container-id-1 div.sk-estimator:hover label.sk-toggleable__label-arrow:before {color: black;}#sk-container-id-1 div.sk-toggleable__content {max-height: 0;max-width: 0;overflow: hidden;text-align: left;background-color: #f0f8ff;}#sk-container-id-1 div.sk-toggleable__content pre {margin: 0.2em;color: black;border-radius: 0.25em;background-color: #f0f8ff;}#sk-container-id-1 input.sk-toggleable__control:checked~div.sk-toggleable__content {max-height: 200px;max-width: 100%;overflow: auto;}#sk-container-id-1 input.sk-toggleable__control:checked~label.sk-toggleable__label-arrow:before {content: \"▾\";}#sk-container-id-1 div.sk-estimator input.sk-toggleable__control:checked~label.sk-toggleable__label {background-color: #d4ebff;}#sk-container-id-1 div.sk-label input.sk-toggleable__control:checked~label.sk-toggleable__label {background-color: #d4ebff;}#sk-container-id-1 input.sk-hidden--visually {border: 0;clip: rect(1px 1px 1px 1px);clip: rect(1px, 1px, 1px, 1px);height: 1px;margin: -1px;overflow: hidden;padding: 0;position: absolute;width: 1px;}#sk-container-id-1 div.sk-estimator {font-family: monospace;background-color: #f0f8ff;border: 1px dotted black;border-radius: 0.25em;box-sizing: border-box;margin-bottom: 0.5em;}#sk-container-id-1 div.sk-estimator:hover {background-color: #d4ebff;}#sk-container-id-1 div.sk-parallel-item::after {content: \"\";width: 100%;border-bottom: 1px solid gray;flex-grow: 1;}#sk-container-id-1 div.sk-label:hover label.sk-toggleable__label {background-color: #d4ebff;}#sk-container-id-1 div.sk-serial::before {content: \"\";position: absolute;border-left: 1px solid gray;box-sizing: border-box;top: 0;bottom: 0;left: 50%;z-index: 0;}#sk-container-id-1 div.sk-serial {display: flex;flex-direction: column;align-items: center;background-color: white;padding-right: 0.2em;padding-left: 0.2em;position: relative;}#sk-container-id-1 div.sk-item {position: relative;z-index: 1;}#sk-container-id-1 div.sk-parallel {display: flex;align-items: stretch;justify-content: center;background-color: white;position: relative;}#sk-container-id-1 div.sk-item::before, #sk-container-id-1 div.sk-parallel-item::before {content: \"\";position: absolute;border-left: 1px solid gray;box-sizing: border-box;top: 0;bottom: 0;left: 50%;z-index: -1;}#sk-container-id-1 div.sk-parallel-item {display: flex;flex-direction: column;z-index: 1;position: relative;background-color: white;}#sk-container-id-1 div.sk-parallel-item:first-child::after {align-self: flex-end;width: 50%;}#sk-container-id-1 div.sk-parallel-item:last-child::after {align-self: flex-start;width: 50%;}#sk-container-id-1 div.sk-parallel-item:only-child::after {width: 0;}#sk-container-id-1 div.sk-dashed-wrapped {border: 1px dashed gray;margin: 0 0.4em 0.5em 0.4em;box-sizing: border-box;padding-bottom: 0.4em;background-color: white;}#sk-container-id-1 div.sk-label label {font-family: monospace;font-weight: bold;display: inline-block;line-height: 1.2em;}#sk-container-id-1 div.sk-label-container {text-align: center;}#sk-container-id-1 div.sk-container {/* jupyter's `normalize.less` sets `[hidden] { display: none; }` but bootstrap.min.css set `[hidden] { display: none !important; }` so we also need the `!important` here to be able to override the default hidden behavior on the sphinx rendered scikit-learn.org. See: https://github.com/scikit-learn/scikit-learn/issues/21755 */display: inline-block !important;position: relative;}#sk-container-id-1 div.sk-text-repr-fallback {display: none;}</style><div id=\"sk-container-id-1\" class=\"sk-top-container\"><div class=\"sk-text-repr-fallback\"><pre>RandomizedSearchCV(cv=TimeSeriesSplit(gap=0, max_train_size=None, n_splits=5, test_size=None),\n",
       "                   estimator=XGBRegressor(base_score=None, booster=None,\n",
       "                                          callbacks=None,\n",
       "                                          colsample_bylevel=None,\n",
       "                                          colsample_bynode=None,\n",
       "                                          colsample_bytree=None, device=&#x27;cuda&#x27;,\n",
       "                                          early_stopping_rounds=None,\n",
       "                                          enable_categorical=False,\n",
       "                                          eval_metric=None, feature_types=None,\n",
       "                                          gamma=None, grow_policy=...\n",
       "                                          n_estimators=None, n_jobs=None,\n",
       "                                          num_parallel_tree=None,\n",
       "                                          random_state=None, ...),\n",
       "                   n_iter=100, n_jobs=-1,\n",
       "                   param_distributions={&#x27;colsample_bytree&#x27;: [1.0], &#x27;gamma&#x27;: [1],\n",
       "                                        &#x27;learning_rate&#x27;: [0.1],\n",
       "                                        &#x27;max_depth&#x27;: [10],\n",
       "                                        &#x27;n_estimators&#x27;: [500], &#x27;reg_alpha&#x27;: [0],\n",
       "                                        &#x27;reg_lambda&#x27;: [5], &#x27;subsample&#x27;: [0.6]},\n",
       "                   random_state=42,\n",
       "                   scoring=make_scorer(mean_squared_error, greater_is_better=False, squared=False))</pre><b>In a Jupyter environment, please rerun this cell to show the HTML representation or trust the notebook. <br />On GitHub, the HTML representation is unable to render, please try loading this page with nbviewer.org.</b></div><div class=\"sk-container\" hidden><div class=\"sk-item sk-dashed-wrapped\"><div class=\"sk-label-container\"><div class=\"sk-label sk-toggleable\"><input class=\"sk-toggleable__control sk-hidden--visually\" id=\"sk-estimator-id-1\" type=\"checkbox\" ><label for=\"sk-estimator-id-1\" class=\"sk-toggleable__label sk-toggleable__label-arrow\">RandomizedSearchCV</label><div class=\"sk-toggleable__content\"><pre>RandomizedSearchCV(cv=TimeSeriesSplit(gap=0, max_train_size=None, n_splits=5, test_size=None),\n",
       "                   estimator=XGBRegressor(base_score=None, booster=None,\n",
       "                                          callbacks=None,\n",
       "                                          colsample_bylevel=None,\n",
       "                                          colsample_bynode=None,\n",
       "                                          colsample_bytree=None, device=&#x27;cuda&#x27;,\n",
       "                                          early_stopping_rounds=None,\n",
       "                                          enable_categorical=False,\n",
       "                                          eval_metric=None, feature_types=None,\n",
       "                                          gamma=None, grow_policy=...\n",
       "                                          n_estimators=None, n_jobs=None,\n",
       "                                          num_parallel_tree=None,\n",
       "                                          random_state=None, ...),\n",
       "                   n_iter=100, n_jobs=-1,\n",
       "                   param_distributions={&#x27;colsample_bytree&#x27;: [1.0], &#x27;gamma&#x27;: [1],\n",
       "                                        &#x27;learning_rate&#x27;: [0.1],\n",
       "                                        &#x27;max_depth&#x27;: [10],\n",
       "                                        &#x27;n_estimators&#x27;: [500], &#x27;reg_alpha&#x27;: [0],\n",
       "                                        &#x27;reg_lambda&#x27;: [5], &#x27;subsample&#x27;: [0.6]},\n",
       "                   random_state=42,\n",
       "                   scoring=make_scorer(mean_squared_error, greater_is_better=False, squared=False))</pre></div></div></div><div class=\"sk-parallel\"><div class=\"sk-parallel-item\"><div class=\"sk-item\"><div class=\"sk-label-container\"><div class=\"sk-label sk-toggleable\"><input class=\"sk-toggleable__control sk-hidden--visually\" id=\"sk-estimator-id-2\" type=\"checkbox\" ><label for=\"sk-estimator-id-2\" class=\"sk-toggleable__label sk-toggleable__label-arrow\">estimator: XGBRegressor</label><div class=\"sk-toggleable__content\"><pre>XGBRegressor(base_score=None, booster=None, callbacks=None,\n",
       "             colsample_bylevel=None, colsample_bynode=None,\n",
       "             colsample_bytree=None, device=&#x27;cuda&#x27;, early_stopping_rounds=None,\n",
       "             enable_categorical=False, eval_metric=None, feature_types=None,\n",
       "             gamma=None, grow_policy=None, importance_type=None,\n",
       "             interaction_constraints=None, learning_rate=None, max_bin=None,\n",
       "             max_cat_threshold=None, max_cat_to_onehot=None,\n",
       "             max_delta_step=None, max_depth=None, max_leaves=None,\n",
       "             min_child_weight=None, missing=nan, monotone_constraints=None,\n",
       "             multi_strategy=None, n_estimators=None, n_jobs=None,\n",
       "             num_parallel_tree=None, random_state=None, ...)</pre></div></div></div><div class=\"sk-serial\"><div class=\"sk-item\"><div class=\"sk-estimator sk-toggleable\"><input class=\"sk-toggleable__control sk-hidden--visually\" id=\"sk-estimator-id-3\" type=\"checkbox\" ><label for=\"sk-estimator-id-3\" class=\"sk-toggleable__label sk-toggleable__label-arrow\">XGBRegressor</label><div class=\"sk-toggleable__content\"><pre>XGBRegressor(base_score=None, booster=None, callbacks=None,\n",
       "             colsample_bylevel=None, colsample_bynode=None,\n",
       "             colsample_bytree=None, device=&#x27;cuda&#x27;, early_stopping_rounds=None,\n",
       "             enable_categorical=False, eval_metric=None, feature_types=None,\n",
       "             gamma=None, grow_policy=None, importance_type=None,\n",
       "             interaction_constraints=None, learning_rate=None, max_bin=None,\n",
       "             max_cat_threshold=None, max_cat_to_onehot=None,\n",
       "             max_delta_step=None, max_depth=None, max_leaves=None,\n",
       "             min_child_weight=None, missing=nan, monotone_constraints=None,\n",
       "             multi_strategy=None, n_estimators=None, n_jobs=None,\n",
       "             num_parallel_tree=None, random_state=None, ...)</pre></div></div></div></div></div></div></div></div></div></div>"
      ],
      "text/plain": [
       "RandomizedSearchCV(cv=TimeSeriesSplit(gap=0, max_train_size=None, n_splits=5, test_size=None),\n",
       "                   estimator=XGBRegressor(base_score=None, booster=None,\n",
       "                                          callbacks=None,\n",
       "                                          colsample_bylevel=None,\n",
       "                                          colsample_bynode=None,\n",
       "                                          colsample_bytree=None, device='cuda',\n",
       "                                          early_stopping_rounds=None,\n",
       "                                          enable_categorical=False,\n",
       "                                          eval_metric=None, feature_types=None,\n",
       "                                          gamma=None, grow_policy=...\n",
       "                                          n_estimators=None, n_jobs=None,\n",
       "                                          num_parallel_tree=None,\n",
       "                                          random_state=None, ...),\n",
       "                   n_iter=100, n_jobs=-1,\n",
       "                   param_distributions={'colsample_bytree': [1.0], 'gamma': [1],\n",
       "                                        'learning_rate': [0.1],\n",
       "                                        'max_depth': [10],\n",
       "                                        'n_estimators': [500], 'reg_alpha': [0],\n",
       "                                        'reg_lambda': [5], 'subsample': [0.6]},\n",
       "                   random_state=42,\n",
       "                   scoring=make_scorer(mean_squared_error, greater_is_better=False, squared=False))"
      ]
     },
     "execution_count": 14,
     "metadata": {},
     "output_type": "execute_result"
    }
   ],
   "source": [
    "search.fit(X_train[best_features], y_train)"
   ]
  },
  {
   "cell_type": "code",
   "execution_count": 15,
   "id": "6f9fb09a",
   "metadata": {
    "execution": {
     "iopub.execute_input": "2025-05-14T15:18:20.131895Z",
     "iopub.status.busy": "2025-05-14T15:18:20.131590Z",
     "iopub.status.idle": "2025-05-14T15:18:20.266451Z",
     "shell.execute_reply": "2025-05-14T15:18:20.265536Z"
    },
    "papermill": {
     "duration": 0.14094,
     "end_time": "2025-05-14T15:18:20.268188",
     "exception": false,
     "start_time": "2025-05-14T15:18:20.127248",
     "status": "completed"
    },
    "tags": []
   },
   "outputs": [
    {
     "name": "stderr",
     "output_type": "stream",
     "text": [
      "/usr/local/lib/python3.11/dist-packages/xgboost/core.py:160: UserWarning: [15:18:20] WARNING: /workspace/src/common/error_msg.cc:58: Falling back to prediction using DMatrix due to mismatched devices. This might lead to higher memory usage and slower performance. XGBoost is running on: cuda:0, while the input data is on: cpu.\n",
      "Potential solutions:\n",
      "- Use a data structure that matches the device ordinal in the booster.\n",
      "- Set the device for booster before call to inplace_predict.\n",
      "\n",
      "This warning will only be shown once.\n",
      "\n",
      "  warnings.warn(smsg, UserWarning)\n"
     ]
    }
   ],
   "source": [
    "X_test = dat['test']\n",
    "\n",
    "submission = pd.DataFrame()\n",
    "\n",
    "submission['Id'] = X_test['Id']\n",
    "\n",
    "submission['Sales'] = search.predict(X_test[best_features]).clip(0)\n",
    "\n",
    "submission.to_csv(\"submission.csv\", index=False)\n"
   ]
  }
 ],
 "metadata": {
  "kaggle": {
   "accelerator": "gpu",
   "dataSources": [
    {
     "databundleVersionId": 860645,
     "sourceId": 4594,
     "sourceType": "competition"
    }
   ],
   "dockerImageVersionId": 31011,
   "isGpuEnabled": true,
   "isInternetEnabled": true,
   "language": "python",
   "sourceType": "notebook"
  },
  "kernelspec": {
   "display_name": "Python 3",
   "language": "python",
   "name": "python3"
  },
  "language_info": {
   "codemirror_mode": {
    "name": "ipython",
    "version": 3
   },
   "file_extension": ".py",
   "mimetype": "text/x-python",
   "name": "python",
   "nbconvert_exporter": "python",
   "pygments_lexer": "ipython3",
   "version": "3.11.11"
  },
  "papermill": {
   "default_parameters": {},
   "duration": 65.982029,
   "end_time": "2025-05-14T15:18:22.991252",
   "environment_variables": {},
   "exception": null,
   "input_path": "__notebook__.ipynb",
   "output_path": "__notebook__.ipynb",
   "parameters": {},
   "start_time": "2025-05-14T15:17:17.009223",
   "version": "2.6.0"
  }
 },
 "nbformat": 4,
 "nbformat_minor": 5
}

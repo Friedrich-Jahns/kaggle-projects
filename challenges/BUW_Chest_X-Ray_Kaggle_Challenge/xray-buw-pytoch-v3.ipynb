{
 "cells": [
  {
   "cell_type": "code",
   "execution_count": 1,
   "id": "affae31b",
   "metadata": {
    "_cell_guid": "b1076dfc-b9ad-4769-8c92-a6c4dae69d19",
    "_uuid": "8f2839f25d086af736a60e9eeb907d3b93b6e0e5",
    "execution": {
     "iopub.execute_input": "2025-03-25T17:56:06.049858Z",
     "iopub.status.busy": "2025-03-25T17:56:06.049482Z",
     "iopub.status.idle": "2025-03-25T17:56:16.006227Z",
     "shell.execute_reply": "2025-03-25T17:56:16.005476Z"
    },
    "papermill": {
     "duration": 9.963564,
     "end_time": "2025-03-25T17:56:16.007813",
     "exception": false,
     "start_time": "2025-03-25T17:56:06.044249",
     "status": "completed"
    },
    "tags": []
   },
   "outputs": [],
   "source": [
    "import numpy as np \n",
    "import pandas as pd \n",
    "import matplotlib.pyplot as plt\n",
    "import cv2\n",
    "from PIL import Image\n",
    "import random\n",
    "\n",
    "import torch\n",
    "from torchvision.datasets import ImageFolder\n",
    "from torchvision import datasets\n",
    "from torchvision import  transforms\n",
    "from torch.utils.data import DataLoader\n",
    "import torch.nn as nn\n",
    "import torchvision.models as models\n",
    "import torch.optim as optim\n",
    "import torch.nn.functional as F\n",
    "from torch.utils.data import Dataset\n",
    "\n",
    "import os\n",
    "from pathlib import Path\n",
    "from sklearn.metrics import f1_score"
   ]
  },
  {
   "cell_type": "code",
   "execution_count": 2,
   "id": "5fa47920",
   "metadata": {
    "execution": {
     "iopub.execute_input": "2025-03-25T17:56:16.015884Z",
     "iopub.status.busy": "2025-03-25T17:56:16.015470Z",
     "iopub.status.idle": "2025-03-25T17:56:20.213240Z",
     "shell.execute_reply": "2025-03-25T17:56:20.212336Z"
    },
    "papermill": {
     "duration": 4.202833,
     "end_time": "2025-03-25T17:56:20.214568",
     "exception": false,
     "start_time": "2025-03-25T17:56:16.011735",
     "status": "completed"
    },
    "tags": []
   },
   "outputs": [
    {
     "name": "stdout",
     "output_type": "stream",
     "text": [
      "/kaggle/input/buw-chest-x-ray-challange/challenge_data/submission/SUB-137.jpeg\n",
      "/kaggle/input/buw-chest-x-ray-challange/challenge_data/submission/SUB-209.jpeg\n",
      "/kaggle/input/buw-chest-x-ray-challange/challenge_data/val/PNEUMONIA/person1947_bacteria_4876.jpeg\n",
      "/kaggle/input/buw-chest-x-ray-challange/challenge_data/val/PNEUMONIA/person1946_bacteria_4875.jpeg\n",
      "/kaggle/input/buw-chest-x-ray-challange/challenge_data/val/NORMAL/NORMAL2-IM-1431-0001.jpeg\n",
      "/kaggle/input/buw-chest-x-ray-challange/challenge_data/val/NORMAL/NORMAL2-IM-1440-0001.jpeg\n",
      "/kaggle/input/buw-chest-x-ray-challange/challenge_data/test/PNEUMONIA/person1676_virus_2892.jpeg\n",
      "/kaggle/input/buw-chest-x-ray-challange/challenge_data/test/PNEUMONIA/person1650_virus_2852.jpeg\n",
      "/kaggle/input/buw-chest-x-ray-challange/challenge_data/test/NORMAL/NORMAL2-IM-0336-0001.jpeg\n",
      "/kaggle/input/buw-chest-x-ray-challange/challenge_data/test/NORMAL/NORMAL2-IM-0337-0001.jpeg\n",
      "/kaggle/input/buw-chest-x-ray-challange/challenge_data/train/PNEUMONIA/person1180_virus_2010.jpeg\n",
      "/kaggle/input/buw-chest-x-ray-challange/challenge_data/train/PNEUMONIA/person1230_virus_2081.jpeg\n",
      "/kaggle/input/buw-chest-x-ray-challange/challenge_data/train/NORMAL/NORMAL2-IM-0771-0001.jpeg\n",
      "/kaggle/input/buw-chest-x-ray-challange/challenge_data/train/NORMAL/NORMAL2-IM-1294-0001-0002.jpeg\n"
     ]
    }
   ],
   "source": [
    "for dirname, _, filenames in os.walk('/kaggle/input'):\n",
    "    for filename in filenames[:2]:\n",
    "        print(os.path.join(dirname, filename))"
   ]
  },
  {
   "cell_type": "code",
   "execution_count": 3,
   "id": "aad41573",
   "metadata": {
    "execution": {
     "iopub.execute_input": "2025-03-25T17:56:20.223002Z",
     "iopub.status.busy": "2025-03-25T17:56:20.222746Z",
     "iopub.status.idle": "2025-03-25T17:56:20.226294Z",
     "shell.execute_reply": "2025-03-25T17:56:20.225656Z"
    },
    "papermill": {
     "duration": 0.00907,
     "end_time": "2025-03-25T17:56:20.227516",
     "exception": false,
     "start_time": "2025-03-25T17:56:20.218446",
     "status": "completed"
    },
    "tags": []
   },
   "outputs": [],
   "source": [
    "path = {\n",
    "    \"train\":Path('/kaggle/input/buw-chest-x-ray-challange/challenge_data/train'),\n",
    "    \"val\": Path('/kaggle/input/buw-chest-x-ray-challange/challenge_data/val') ,\n",
    "    \"test\": Path('/kaggle/input/buw-chest-x-ray-challange/challenge_data/test'),\n",
    "    \"submission\": Path('/kaggle/input/buw-chest-x-ray-challange/challenge_data/submission')\n",
    "}"
   ]
  },
  {
   "cell_type": "code",
   "execution_count": 4,
   "id": "8a222e5d",
   "metadata": {
    "execution": {
     "iopub.execute_input": "2025-03-25T17:56:20.235869Z",
     "iopub.status.busy": "2025-03-25T17:56:20.235548Z",
     "iopub.status.idle": "2025-03-25T17:56:20.294441Z",
     "shell.execute_reply": "2025-03-25T17:56:20.293760Z"
    },
    "papermill": {
     "duration": 0.064953,
     "end_time": "2025-03-25T17:56:20.296204",
     "exception": false,
     "start_time": "2025-03-25T17:56:20.231251",
     "status": "completed"
    },
    "tags": []
   },
   "outputs": [],
   "source": [
    "seed = 42\n",
    "torch.manual_seed(seed)\n",
    "np.random.seed(seed)\n",
    "random.seed(seed)\n",
    "\n",
    "# Falls CUDA genutzt wird\n",
    "if torch.cuda.is_available():\n",
    "    torch.cuda.manual_seed(seed)\n",
    "    torch.cuda.manual_seed_all(seed)  # Falls mehrere GPUs genutzt werden\n",
    "    torch.backends.cudnn.deterministic = True\n",
    "    torch.backends.cudnn.benchmark = False"
   ]
  },
  {
   "cell_type": "code",
   "execution_count": 5,
   "id": "cae40dbf",
   "metadata": {
    "execution": {
     "iopub.execute_input": "2025-03-25T17:56:20.304301Z",
     "iopub.status.busy": "2025-03-25T17:56:20.304062Z",
     "iopub.status.idle": "2025-03-25T17:56:20.310370Z",
     "shell.execute_reply": "2025-03-25T17:56:20.309627Z"
    },
    "papermill": {
     "duration": 0.011756,
     "end_time": "2025-03-25T17:56:20.311690",
     "exception": false,
     "start_time": "2025-03-25T17:56:20.299934",
     "status": "completed"
    },
    "tags": []
   },
   "outputs": [],
   "source": [
    "def rgb_to_grayscale(image: torch.Tensor):\n",
    "    weights = torch.tensor([0.2989, 0.5870, 0.1140], device=image.device).view(1, 3, 1, 1)\n",
    "    grayscale = (image * weights).sum(dim=1, keepdim=True)\n",
    "    return grayscale\n",
    "\n",
    "def grayscale_to_rgb(grayscale: torch.Tensor):\n",
    "    return grayscale.expand(-1, 3, -1, -1) \n",
    "\n",
    "\n",
    "def filter_1(x: torch.Tensor):#Threshold\n",
    "    arr = torch.where(x > torch.mean(x), torch.tensor(0, dtype=x.dtype, device=x.device), x)\n",
    "    return arr\n",
    "\n",
    "def filter_2(x: torch.Tensor):#Threshold and Highpass\n",
    "    image = torch.where(x > torch.mean(x), torch.tensor(0, dtype=x.dtype, device=x.device), x)\n",
    "    image = rgb_to_grayscale(image)\n",
    "    laplacian_kernel = torch.tensor([[[[ 0, -1,  0], \n",
    "                                       [-1,  4, -1], \n",
    "                                       [ 0, -1,  0]]]], dtype=torch.float32)\n",
    "    high_pass = F.conv2d(image, laplacian_kernel, padding=1)\n",
    "    high_pass = grayscale_to_rgb(high_pass)\n",
    "    return high_pass\n"
   ]
  },
  {
   "cell_type": "code",
   "execution_count": 6,
   "id": "a1c9bed0",
   "metadata": {
    "execution": {
     "iopub.execute_input": "2025-03-25T17:56:20.319169Z",
     "iopub.status.busy": "2025-03-25T17:56:20.318950Z",
     "iopub.status.idle": "2025-03-25T17:56:20.322782Z",
     "shell.execute_reply": "2025-03-25T17:56:20.322130Z"
    },
    "papermill": {
     "duration": 0.008956,
     "end_time": "2025-03-25T17:56:20.323968",
     "exception": false,
     "start_time": "2025-03-25T17:56:20.315012",
     "status": "completed"
    },
    "tags": []
   },
   "outputs": [],
   "source": [
    "transform = transforms.Compose([\n",
    "    transforms.ToTensor(),\n",
    "    transforms.Lambda(lambda img: filter_1(img)),\n",
    "    transforms.Resize((224, 224)),\n",
    "    transforms.RandomRotation(10),\n",
    "    transforms.RandomHorizontalFlip(),\n",
    "])"
   ]
  },
  {
   "cell_type": "code",
   "execution_count": 7,
   "id": "1ece5176",
   "metadata": {
    "execution": {
     "iopub.execute_input": "2025-03-25T17:56:20.331384Z",
     "iopub.status.busy": "2025-03-25T17:56:20.331102Z",
     "iopub.status.idle": "2025-03-25T17:56:20.827490Z",
     "shell.execute_reply": "2025-03-25T17:56:20.826751Z"
    },
    "papermill": {
     "duration": 0.501713,
     "end_time": "2025-03-25T17:56:20.828997",
     "exception": false,
     "start_time": "2025-03-25T17:56:20.327284",
     "status": "completed"
    },
    "tags": []
   },
   "outputs": [],
   "source": [
    "dataset = ImageFolder(root=path['train'],transform=transform)\n",
    "dataloader = DataLoader(dataset, batch_size=32, shuffle=True)"
   ]
  },
  {
   "cell_type": "code",
   "execution_count": 8,
   "id": "6ee50e11",
   "metadata": {
    "execution": {
     "iopub.execute_input": "2025-03-25T17:56:20.837528Z",
     "iopub.status.busy": "2025-03-25T17:56:20.837285Z",
     "iopub.status.idle": "2025-03-25T17:56:23.536910Z",
     "shell.execute_reply": "2025-03-25T17:56:23.535899Z"
    },
    "papermill": {
     "duration": 2.705603,
     "end_time": "2025-03-25T17:56:23.538680",
     "exception": false,
     "start_time": "2025-03-25T17:56:20.833077",
     "status": "completed"
    },
    "tags": []
   },
   "outputs": [
    {
     "name": "stderr",
     "output_type": "stream",
     "text": [
      "/usr/local/lib/python3.10/dist-packages/torchvision/models/_utils.py:208: UserWarning: The parameter 'pretrained' is deprecated since 0.13 and may be removed in the future, please use 'weights' instead.\n",
      "  warnings.warn(\n",
      "/usr/local/lib/python3.10/dist-packages/torchvision/models/_utils.py:223: UserWarning: Arguments other than a weight enum or `None` for 'weights' are deprecated since 0.13 and may be removed in the future. The current behavior is equivalent to passing `weights=ResNet152_Weights.IMAGENET1K_V1`. You can also use `weights=ResNet152_Weights.DEFAULT` to get the most up-to-date weights.\n",
      "  warnings.warn(msg)\n",
      "Downloading: \"https://download.pytorch.org/models/resnet152-394f9c45.pth\" to /root/.cache/torch/hub/checkpoints/resnet152-394f9c45.pth\n",
      "100%|██████████| 230M/230M [00:01<00:00, 182MB/s]\n"
     ]
    }
   ],
   "source": [
    "#34,152\n",
    "model = models.resnet152(pretrained=True)\n",
    "num_ftrs = model.fc.in_features\n",
    "model.fc = torch.nn.Linear(num_ftrs, 3)"
   ]
  },
  {
   "cell_type": "code",
   "execution_count": 9,
   "id": "da2f9340",
   "metadata": {
    "execution": {
     "iopub.execute_input": "2025-03-25T17:56:23.548992Z",
     "iopub.status.busy": "2025-03-25T17:56:23.548699Z",
     "iopub.status.idle": "2025-03-25T17:56:23.826161Z",
     "shell.execute_reply": "2025-03-25T17:56:23.825133Z"
    },
    "papermill": {
     "duration": 0.284305,
     "end_time": "2025-03-25T17:56:23.827801",
     "exception": false,
     "start_time": "2025-03-25T17:56:23.543496",
     "status": "completed"
    },
    "tags": []
   },
   "outputs": [],
   "source": [
    "criterion = nn.CrossEntropyLoss()\n",
    "optimizer = optim.Adam(model.parameters(), lr=0.001)\n",
    "\n",
    "device = torch.device('cuda' if torch.cuda.is_available() else 'cpu')\n",
    "model = model.to(device)\n",
    "\n",
    "loss_fn = nn.CrossEntropyLoss()"
   ]
  },
  {
   "cell_type": "markdown",
   "id": "7a63fdd4",
   "metadata": {
    "papermill": {
     "duration": 0.004426,
     "end_time": "2025-03-25T17:56:23.837217",
     "exception": false,
     "start_time": "2025-03-25T17:56:23.832791",
     "status": "completed"
    },
    "tags": []
   },
   "source": [
    "## Training"
   ]
  },
  {
   "cell_type": "code",
   "execution_count": 10,
   "id": "df502af4",
   "metadata": {
    "execution": {
     "iopub.execute_input": "2025-03-25T17:56:23.847501Z",
     "iopub.status.busy": "2025-03-25T17:56:23.847218Z",
     "iopub.status.idle": "2025-03-25T18:33:16.864152Z",
     "shell.execute_reply": "2025-03-25T18:33:16.862892Z"
    },
    "papermill": {
     "duration": 2213.024182,
     "end_time": "2025-03-25T18:33:16.865936",
     "exception": false,
     "start_time": "2025-03-25T17:56:23.841754",
     "status": "completed"
    },
    "tags": []
   },
   "outputs": [
    {
     "name": "stdout",
     "output_type": "stream",
     "text": [
      "Epoch [10/10], Sample[163] Loss: 0.0341"
     ]
    }
   ],
   "source": [
    "epochs = 10\n",
    "\n",
    "for epoch in range(epochs):\n",
    "    model.train()\n",
    "    sample=0\n",
    "\n",
    "    for inputs, labels in dataloader:\n",
    "        sample+=1\n",
    "        inputs = inputs.to(device).float()  # Auf GPU verschieben und in float konvertieren\n",
    "        labels = labels.to(device)\n",
    "\n",
    "        outputs = model(inputs)\n",
    "        loss = criterion(outputs, labels)\n",
    "\n",
    "        optimizer.zero_grad()\n",
    "        loss.backward()\n",
    "        optimizer.step()\n",
    "\n",
    "        print(f\"\\rEpoch [{epoch+1}/{epochs}], Sample[{sample}] Loss: {loss.item():.4f}\",end=\"\")"
   ]
  },
  {
   "cell_type": "markdown",
   "id": "ceea1328",
   "metadata": {
    "papermill": {
     "duration": 0.08441,
     "end_time": "2025-03-25T18:33:17.033977",
     "exception": false,
     "start_time": "2025-03-25T18:33:16.949567",
     "status": "completed"
    },
    "tags": []
   },
   "source": [
    "# Validierung \n"
   ]
  },
  {
   "cell_type": "code",
   "execution_count": 11,
   "id": "425d7095",
   "metadata": {
    "execution": {
     "iopub.execute_input": "2025-03-25T18:33:17.206284Z",
     "iopub.status.busy": "2025-03-25T18:33:17.205937Z",
     "iopub.status.idle": "2025-03-25T18:33:17.210459Z",
     "shell.execute_reply": "2025-03-25T18:33:17.209680Z"
    },
    "papermill": {
     "duration": 0.092401,
     "end_time": "2025-03-25T18:33:17.211955",
     "exception": false,
     "start_time": "2025-03-25T18:33:17.119554",
     "status": "completed"
    },
    "tags": []
   },
   "outputs": [],
   "source": [
    "valid_transform = transforms.Compose([\n",
    "    transforms.ToTensor(),\n",
    "    transforms.Lambda(lambda img: filter_1(img)),\n",
    "    transforms.Resize((224, 224)),\n",
    "])"
   ]
  },
  {
   "cell_type": "code",
   "execution_count": 12,
   "id": "de04aac8",
   "metadata": {
    "execution": {
     "iopub.execute_input": "2025-03-25T18:33:17.384556Z",
     "iopub.status.busy": "2025-03-25T18:33:17.384225Z",
     "iopub.status.idle": "2025-03-25T18:33:18.057075Z",
     "shell.execute_reply": "2025-03-25T18:33:18.055985Z"
    },
    "papermill": {
     "duration": 0.7606,
     "end_time": "2025-03-25T18:33:18.058736",
     "exception": false,
     "start_time": "2025-03-25T18:33:17.298136",
     "status": "completed"
    },
    "tags": []
   },
   "outputs": [
    {
     "name": "stdout",
     "output_type": "stream",
     "text": [
      "F1-Score: 1.0000\n"
     ]
    }
   ],
   "source": [
    "\n",
    "valid_dataset = datasets.ImageFolder(root=path['val'], transform=valid_transform)\n",
    "valid_loader = DataLoader(valid_dataset, batch_size=32, shuffle=False)\n",
    "\n",
    "model.to(device)\n",
    "model.eval()\n",
    "\n",
    "all_labels = []\n",
    "all_preds = []\n",
    "\n",
    "with torch.no_grad():\n",
    "    for inputs, labels in valid_loader:\n",
    "        inputs, labels = inputs.to(device), labels.to(device)\n",
    "        \n",
    "        outputs = model(inputs)\n",
    "        \n",
    "        _, predicted = torch.max(outputs, 1)\n",
    "\n",
    "        all_labels.extend(labels.cpu().numpy())\n",
    "        all_preds.extend(predicted.cpu().numpy())\n",
    "\n",
    "f1 = f1_score(all_labels, all_preds, average='weighted')  # Für unbalancierte Klassen ist 'weighted' sinnvoll\n",
    "print(f'F1-Score: {f1:.4f}')\n"
   ]
  },
  {
   "cell_type": "markdown",
   "id": "97af0b9c",
   "metadata": {
    "papermill": {
     "duration": 0.085262,
     "end_time": "2025-03-25T18:33:18.231787",
     "exception": false,
     "start_time": "2025-03-25T18:33:18.146525",
     "status": "completed"
    },
    "tags": []
   },
   "source": [
    "87,5  "
   ]
  },
  {
   "cell_type": "code",
   "execution_count": 13,
   "id": "a952004d",
   "metadata": {
    "execution": {
     "iopub.execute_input": "2025-03-25T18:33:18.404274Z",
     "iopub.status.busy": "2025-03-25T18:33:18.403879Z",
     "iopub.status.idle": "2025-03-25T18:33:34.898812Z",
     "shell.execute_reply": "2025-03-25T18:33:34.897682Z"
    },
    "papermill": {
     "duration": 16.581208,
     "end_time": "2025-03-25T18:33:34.900409",
     "exception": false,
     "start_time": "2025-03-25T18:33:18.319201",
     "status": "completed"
    },
    "tags": []
   },
   "outputs": [
    {
     "name": "stdout",
     "output_type": "stream",
     "text": [
      "[0, 1, 1, 1, 1, 1, 1, 1, 0, 1, 1, 0, 1, 1, 1, 0, 1, 1, 1, 1, 1, 1, 0, 1, 1, 1, 1, 1, 0, 1, 1, 1, 1, 1, 0, 1, 0, 1, 0, 1, 0, 1, 1, 1, 1, 1, 1, 0, 1, 1, 1, 1, 0, 1, 1, 1, 1, 1, 1, 1, 1, 0, 0, 1, 0, 1, 1, 1, 1, 0, 1, 1, 0, 1, 1, 1, 0, 0, 1, 0, 1, 1, 0, 0, 1, 1, 0, 0, 1, 0, 1, 0, 1, 1, 1, 1, 1, 1, 0, 1, 1, 1, 1, 1, 0, 0, 1, 1, 0, 1, 0, 0, 1, 1, 1, 1, 0, 0, 1, 1, 0, 0, 1, 0, 0, 1, 1, 1, 0, 1, 1, 1, 1, 0, 1, 1, 0, 1, 1, 1, 1, 1, 0, 1, 1, 1, 0, 0, 1, 1, 0, 0, 1, 1, 1, 0, 0, 1, 1, 1, 0, 1, 1, 1, 0, 1, 0, 0, 1, 0, 0, 0, 1, 1, 1, 1, 1, 1, 0, 0, 1, 0, 0, 1, 1, 1, 1, 1, 1, 0, 1, 0, 0, 0, 1, 1, 1, 1, 1, 1, 1, 0, 0, 1, 1, 1, 1, 1, 1, 1, 1, 1, 1, 1, 0, 1, 0, 1, 1, 1, 0, 0, 1, 1, 0, 1, 1, 1, 0, 1, 0, 0, 0, 1, 1, 0, 1, 1, 1, 1, 1, 0, 0, 1, 1, 1, 1, 1, 0, 0, 0, 1, 1, 0, 1, 1, 1, 1, 1, 0, 1, 0, 1, 1, 1, 1, 0, 1, 1, 0, 1, 1, 1, 1, 0, 0, 1, 1, 1, 1, 1, 1, 1, 1, 1, 1, 1, 0, 0, 0, 0, 0, 1, 1, 1, 0, 1, 0, 0, 0, 0, 1, 1, 1, 1, 0, 0, 1, 1, 0, 1, 0]\n"
     ]
    }
   ],
   "source": [
    "\n",
    "class UnlabeledDataset(Dataset):\n",
    "    def __init__(self, root_dir, transform=None):\n",
    "        self.root_dir = root_dir\n",
    "        self.transform = transform\n",
    "        self.image_paths = [os.path.join(root_dir, fname) for fname in os.listdir(root_dir)]\n",
    "\n",
    "    def __len__(self):\n",
    "        return len(self.image_paths)\n",
    "\n",
    "    def __getitem__(self, idx):\n",
    "        image_path = self.image_paths[idx]\n",
    "        image = Image.open(image_path).convert(\"RGB\")  # Stelle sicher, dass es 3 Kanäle hat\n",
    "\n",
    "        if self.transform:\n",
    "            image = self.transform(image)\n",
    "\n",
    "        return image\n",
    "\n",
    "\n",
    "\n",
    "path_unlabeled = '/kaggle/input/buw-chest-x-ray-challange/challenge_data/submission'\n",
    "unlabeled_dataset = UnlabeledDataset(root_dir=path_unlabeled, transform=valid_transform)\n",
    "unlabeled_loader = DataLoader(unlabeled_dataset, batch_size=32, shuffle=False)\n",
    "\n",
    "model.to(device)\n",
    "model.eval()\n",
    "\n",
    "all_preds = []\n",
    "\n",
    "with torch.no_grad():\n",
    "    for inputs in unlabeled_loader:\n",
    "        inputs = inputs.to(device)\n",
    "        \n",
    "        outputs = model(inputs)\n",
    "        \n",
    "        _, predicted = torch.max(outputs, 1)\n",
    "        \n",
    "        all_preds.extend(predicted.cpu().numpy())\n",
    "\n",
    "print(all_preds)"
   ]
  },
  {
   "cell_type": "code",
   "execution_count": 14,
   "id": "43e768b0",
   "metadata": {
    "execution": {
     "iopub.execute_input": "2025-03-25T18:33:35.065220Z",
     "iopub.status.busy": "2025-03-25T18:33:35.064898Z",
     "iopub.status.idle": "2025-03-25T18:33:35.069797Z",
     "shell.execute_reply": "2025-03-25T18:33:35.069022Z"
    },
    "papermill": {
     "duration": 0.086193,
     "end_time": "2025-03-25T18:33:35.071015",
     "exception": false,
     "start_time": "2025-03-25T18:33:34.984822",
     "status": "completed"
    },
    "tags": []
   },
   "outputs": [],
   "source": [
    " filenames = [x.name for x in Path.iterdir(path['submission'])]"
   ]
  },
  {
   "cell_type": "code",
   "execution_count": 15,
   "id": "c2933153",
   "metadata": {
    "execution": {
     "iopub.execute_input": "2025-03-25T18:33:35.232556Z",
     "iopub.status.busy": "2025-03-25T18:33:35.232193Z",
     "iopub.status.idle": "2025-03-25T18:33:35.257007Z",
     "shell.execute_reply": "2025-03-25T18:33:35.255956Z"
    },
    "papermill": {
     "duration": 0.108714,
     "end_time": "2025-03-25T18:33:35.258544",
     "exception": false,
     "start_time": "2025-03-25T18:33:35.149830",
     "status": "completed"
    },
    "tags": []
   },
   "outputs": [],
   "source": [
    "submission = {\n",
    "    \"ID\" :filenames ,\n",
    "    \"Label\" : all_preds\n",
    "}\n",
    "df  = pd.DataFrame(submission)\n",
    "df  =df.sort_values(by=\"ID\", ascending=True)\n",
    "\n",
    "df.head()\n",
    "df.to_csv('submission.csv',index=0)\n",
    "\n"
   ]
  }
 ],
 "metadata": {
  "kaggle": {
   "accelerator": "gpu",
   "dataSources": [
    {
     "databundleVersionId": 11228668,
     "sourceId": 92495,
     "sourceType": "competition"
    }
   ],
   "dockerImageVersionId": 30919,
   "isGpuEnabled": true,
   "isInternetEnabled": true,
   "language": "python",
   "sourceType": "notebook"
  },
  "kernelspec": {
   "display_name": "Python 3",
   "language": "python",
   "name": "python3"
  },
  "language_info": {
   "codemirror_mode": {
    "name": "ipython",
    "version": 3
   },
   "file_extension": ".py",
   "mimetype": "text/x-python",
   "name": "python",
   "nbconvert_exporter": "python",
   "pygments_lexer": "ipython3",
   "version": "3.10.12"
  },
  "papermill": {
   "default_parameters": {},
   "duration": 2253.987572,
   "end_time": "2025-03-25T18:33:37.270546",
   "environment_variables": {},
   "exception": null,
   "input_path": "__notebook__.ipynb",
   "output_path": "__notebook__.ipynb",
   "parameters": {},
   "start_time": "2025-03-25T17:56:03.282974",
   "version": "2.6.0"
  }
 },
 "nbformat": 4,
 "nbformat_minor": 5
}

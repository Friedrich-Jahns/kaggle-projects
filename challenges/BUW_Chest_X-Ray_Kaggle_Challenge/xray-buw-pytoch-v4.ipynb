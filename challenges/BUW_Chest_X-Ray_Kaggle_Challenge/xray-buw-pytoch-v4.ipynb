{
 "cells": [
  {
   "cell_type": "code",
   "execution_count": 1,
   "id": "1e87dd7b",
   "metadata": {
    "_cell_guid": "b1076dfc-b9ad-4769-8c92-a6c4dae69d19",
    "_uuid": "8f2839f25d086af736a60e9eeb907d3b93b6e0e5",
    "execution": {
     "iopub.execute_input": "2025-03-26T09:47:01.961027Z",
     "iopub.status.busy": "2025-03-26T09:47:01.960748Z",
     "iopub.status.idle": "2025-03-26T09:47:11.274513Z",
     "shell.execute_reply": "2025-03-26T09:47:11.273830Z"
    },
    "papermill": {
     "duration": 9.320928,
     "end_time": "2025-03-26T09:47:11.276129",
     "exception": false,
     "start_time": "2025-03-26T09:47:01.955201",
     "status": "completed"
    },
    "tags": []
   },
   "outputs": [],
   "source": [
    "import numpy as np \n",
    "import pandas as pd \n",
    "import matplotlib.pyplot as plt\n",
    "import cv2\n",
    "from PIL import Image\n",
    "import random\n",
    "\n",
    "import torch\n",
    "from torchvision.datasets import ImageFolder\n",
    "from torchvision import datasets\n",
    "from torchvision import  transforms\n",
    "from torch.utils.data import DataLoader\n",
    "import torch.nn as nn\n",
    "import torchvision.models as models\n",
    "import torch.optim as optim\n",
    "import torch.nn.functional as F\n",
    "from torch.utils.data import Dataset\n",
    "\n",
    "import os\n",
    "from pathlib import Path\n",
    "from sklearn.metrics import f1_score\n",
    "import shutil"
   ]
  },
  {
   "cell_type": "markdown",
   "id": "740bdb6b",
   "metadata": {
    "papermill": {
     "duration": 0.00375,
     "end_time": "2025-03-26T09:47:11.284315",
     "exception": false,
     "start_time": "2025-03-26T09:47:11.280565",
     "status": "completed"
    },
    "tags": []
   },
   "source": [
    "# Data structure"
   ]
  },
  {
   "cell_type": "code",
   "execution_count": 2,
   "id": "3d3956cc",
   "metadata": {
    "execution": {
     "iopub.execute_input": "2025-03-26T09:47:11.293035Z",
     "iopub.status.busy": "2025-03-26T09:47:11.292661Z",
     "iopub.status.idle": "2025-03-26T09:47:11.295952Z",
     "shell.execute_reply": "2025-03-26T09:47:11.295347Z"
    },
    "papermill": {
     "duration": 0.008944,
     "end_time": "2025-03-26T09:47:11.297047",
     "exception": false,
     "start_time": "2025-03-26T09:47:11.288103",
     "status": "completed"
    },
    "tags": []
   },
   "outputs": [],
   "source": [
    "path = {\n",
    "    \"train\":Path('/kaggle/working/new_dataset/train'),\n",
    "    \"val\": Path('/kaggle/working/new_dataset/val') ,\n",
    "    \"submission\": Path('/kaggle/working/new_dataset/submission')\n",
    "}"
   ]
  },
  {
   "cell_type": "code",
   "execution_count": 3,
   "id": "3a8ee496",
   "metadata": {
    "execution": {
     "iopub.execute_input": "2025-03-26T09:47:11.305592Z",
     "iopub.status.busy": "2025-03-26T09:47:11.305358Z",
     "iopub.status.idle": "2025-03-26T09:47:11.308204Z",
     "shell.execute_reply": "2025-03-26T09:47:11.307610Z"
    },
    "papermill": {
     "duration": 0.008419,
     "end_time": "2025-03-26T09:47:11.309359",
     "exception": false,
     "start_time": "2025-03-26T09:47:11.300940",
     "status": "completed"
    },
    "tags": []
   },
   "outputs": [],
   "source": [
    "# folders = [\n",
    "#     path['train']/'bac',\n",
    "#     path['train']/'vir',\n",
    "#     path['train']/'norm',\n",
    "#     path['val']/'bac',\n",
    "#     path['val']/'vir',\n",
    "#     path['val']/'norm',\n",
    "#     path['submission'],\n",
    "# ]\n",
    "# for folder in folders:\n",
    "#     os.makedirs(folder, exist_ok=True)"
   ]
  },
  {
   "cell_type": "code",
   "execution_count": 4,
   "id": "2fd6e7bf",
   "metadata": {
    "execution": {
     "iopub.execute_input": "2025-03-26T09:47:11.317623Z",
     "iopub.status.busy": "2025-03-26T09:47:11.317392Z",
     "iopub.status.idle": "2025-03-26T09:47:11.321826Z",
     "shell.execute_reply": "2025-03-26T09:47:11.321178Z"
    },
    "papermill": {
     "duration": 0.009817,
     "end_time": "2025-03-26T09:47:11.322959",
     "exception": false,
     "start_time": "2025-03-26T09:47:11.313142",
     "status": "completed"
    },
    "tags": []
   },
   "outputs": [],
   "source": [
    "def move_file(path,file,destination):\n",
    "    \n",
    "        if 'bacteria' in file.lower():\n",
    "            target_folder = 'BACTERIA'\n",
    "        elif 'virus' in file.lower():\n",
    "            target_folder = 'VIRUS'\n",
    "        elif 'sub' in file.lower():\n",
    "            target_folder = ''\n",
    "        else:\n",
    "            target_folder = 'NORMAL'\n",
    "        source_path = path/file\n",
    "        destination_path = destination/target_folder/file\n",
    "        destination_path_copy = destination/target_folder/f'copy_{file}'\n",
    "\n",
    "        destination_path.parent.mkdir(parents=True, exist_ok=True)\n",
    "        shutil.copy(source_path, destination_path)\n",
    "\n",
    "        if target_folder == 'VIRUS' or target_folder == 'NORMAL':\n",
    "            shutil.copy(source_path, destination_path_copy)\n",
    "\n"
   ]
  },
  {
   "cell_type": "code",
   "execution_count": 5,
   "id": "570f100c",
   "metadata": {
    "execution": {
     "iopub.execute_input": "2025-03-26T09:47:11.331112Z",
     "iopub.status.busy": "2025-03-26T09:47:11.330879Z",
     "iopub.status.idle": "2025-03-26T09:48:05.766432Z",
     "shell.execute_reply": "2025-03-26T09:48:05.765494Z"
    },
    "papermill": {
     "duration": 54.441448,
     "end_time": "2025-03-26T09:48:05.768117",
     "exception": false,
     "start_time": "2025-03-26T09:47:11.326669",
     "status": "completed"
    },
    "tags": []
   },
   "outputs": [],
   "source": [
    "path_in = {\n",
    "    \"train\":Path('/kaggle/input/buw-chest-x-ray-challange/challenge_data/train'),\n",
    "    \"val\": Path('/kaggle/input/buw-chest-x-ray-challange/challenge_data/val') ,\n",
    "    \"test\": Path('/kaggle/input/buw-chest-x-ray-challange/challenge_data/test'),\n",
    "    \"submission\": Path('/kaggle/input/buw-chest-x-ray-challange/challenge_data/submission')\n",
    "}\n",
    "\n",
    "for i in os.listdir(path_in[\"submission\"]):\n",
    "    move_file(path_in[\"submission\"],i,path['submission'])\n",
    "\n",
    "for i in os.listdir(path_in[\"train\"]/'PNEUMONIA'):\n",
    "    move_file(path_in[\"train\"]/'PNEUMONIA',i,path['train'])\n",
    "\n",
    "for i in os.listdir(path_in[\"train\"]/'NORMAL'):\n",
    "    move_file(path_in[\"train\"]/'NORMAL',i,path['train'])\n",
    "\n",
    "for i in os.listdir(path_in[\"val\"]/'PNEUMONIA'):\n",
    "    move_file(path_in[\"val\"]/'PNEUMONIA',i,path['val'])\n",
    "\n",
    "for i in os.listdir(path_in[\"val\"]/'NORMAL'):\n",
    "    move_file(path_in[\"val\"]/'NORMAL',i,path['val'])\n",
    "\n",
    "for i in os.listdir(path_in[\"test\"]/'PNEUMONIA'):\n",
    "    move_file(path_in[\"test\"]/'PNEUMONIA',i,path['val'])\n",
    "\n",
    "for i in os.listdir(path_in[\"test\"]/'NORMAL'):\n",
    "    move_file(path_in[\"test\"]/'NORMAL',i,path['val'])\n",
    "    \n"
   ]
  },
  {
   "cell_type": "markdown",
   "id": "72f2c336",
   "metadata": {
    "papermill": {
     "duration": 0.00368,
     "end_time": "2025-03-26T09:48:05.776083",
     "exception": false,
     "start_time": "2025-03-26T09:48:05.772403",
     "status": "completed"
    },
    "tags": []
   },
   "source": [
    "# Filter etc."
   ]
  },
  {
   "cell_type": "code",
   "execution_count": 6,
   "id": "2194adea",
   "metadata": {
    "execution": {
     "iopub.execute_input": "2025-03-26T09:48:05.784528Z",
     "iopub.status.busy": "2025-03-26T09:48:05.784284Z",
     "iopub.status.idle": "2025-03-26T09:48:08.464047Z",
     "shell.execute_reply": "2025-03-26T09:48:08.463058Z"
    },
    "papermill": {
     "duration": 2.685551,
     "end_time": "2025-03-26T09:48:08.465469",
     "exception": false,
     "start_time": "2025-03-26T09:48:05.779918",
     "status": "completed"
    },
    "tags": []
   },
   "outputs": [
    {
     "name": "stdout",
     "output_type": "stream",
     "text": [
      "/kaggle/input/buw-chest-x-ray-challange/challenge_data/submission/SUB-137.jpeg\n",
      "/kaggle/input/buw-chest-x-ray-challange/challenge_data/submission/SUB-209.jpeg\n",
      "/kaggle/input/buw-chest-x-ray-challange/challenge_data/val/PNEUMONIA/person1947_bacteria_4876.jpeg\n",
      "/kaggle/input/buw-chest-x-ray-challange/challenge_data/val/PNEUMONIA/person1946_bacteria_4875.jpeg\n",
      "/kaggle/input/buw-chest-x-ray-challange/challenge_data/val/NORMAL/NORMAL2-IM-1431-0001.jpeg\n",
      "/kaggle/input/buw-chest-x-ray-challange/challenge_data/val/NORMAL/NORMAL2-IM-1440-0001.jpeg\n",
      "/kaggle/input/buw-chest-x-ray-challange/challenge_data/test/PNEUMONIA/person1676_virus_2892.jpeg\n",
      "/kaggle/input/buw-chest-x-ray-challange/challenge_data/test/PNEUMONIA/person1650_virus_2852.jpeg\n",
      "/kaggle/input/buw-chest-x-ray-challange/challenge_data/test/NORMAL/NORMAL2-IM-0336-0001.jpeg\n",
      "/kaggle/input/buw-chest-x-ray-challange/challenge_data/test/NORMAL/NORMAL2-IM-0337-0001.jpeg\n",
      "/kaggle/input/buw-chest-x-ray-challange/challenge_data/train/PNEUMONIA/person1180_virus_2010.jpeg\n",
      "/kaggle/input/buw-chest-x-ray-challange/challenge_data/train/PNEUMONIA/person1230_virus_2081.jpeg\n",
      "/kaggle/input/buw-chest-x-ray-challange/challenge_data/train/NORMAL/NORMAL2-IM-0771-0001.jpeg\n",
      "/kaggle/input/buw-chest-x-ray-challange/challenge_data/train/NORMAL/NORMAL2-IM-1294-0001-0002.jpeg\n"
     ]
    }
   ],
   "source": [
    "for dirname, _, filenames in os.walk('/kaggle/input'):\n",
    "    for filename in filenames[:2]:\n",
    "        print(os.path.join(dirname, filename))"
   ]
  },
  {
   "cell_type": "code",
   "execution_count": 7,
   "id": "045a9c9b",
   "metadata": {
    "execution": {
     "iopub.execute_input": "2025-03-26T09:48:08.474789Z",
     "iopub.status.busy": "2025-03-26T09:48:08.474502Z",
     "iopub.status.idle": "2025-03-26T09:48:08.535815Z",
     "shell.execute_reply": "2025-03-26T09:48:08.534938Z"
    },
    "papermill": {
     "duration": 0.067476,
     "end_time": "2025-03-26T09:48:08.537348",
     "exception": false,
     "start_time": "2025-03-26T09:48:08.469872",
     "status": "completed"
    },
    "tags": []
   },
   "outputs": [],
   "source": [
    "seed = 42\n",
    "torch.manual_seed(seed)\n",
    "np.random.seed(seed)\n",
    "random.seed(seed)\n",
    "\n",
    "# Falls CUDA genutzt wird\n",
    "if torch.cuda.is_available():\n",
    "    torch.cuda.manual_seed(seed)\n",
    "    torch.cuda.manual_seed_all(seed)  # Falls mehrere GPUs genutzt werden\n",
    "    torch.backends.cudnn.deterministic = True\n",
    "    torch.backends.cudnn.benchmark = False"
   ]
  },
  {
   "cell_type": "code",
   "execution_count": 8,
   "id": "7210aee0",
   "metadata": {
    "execution": {
     "iopub.execute_input": "2025-03-26T09:48:08.546362Z",
     "iopub.status.busy": "2025-03-26T09:48:08.546134Z",
     "iopub.status.idle": "2025-03-26T09:48:08.551700Z",
     "shell.execute_reply": "2025-03-26T09:48:08.551089Z"
    },
    "papermill": {
     "duration": 0.011217,
     "end_time": "2025-03-26T09:48:08.552827",
     "exception": false,
     "start_time": "2025-03-26T09:48:08.541610",
     "status": "completed"
    },
    "tags": []
   },
   "outputs": [],
   "source": [
    "def rgb_to_grayscale(image: torch.Tensor):\n",
    "    weights = torch.tensor([0.2989, 0.5870, 0.1140], device=image.device).view(1, 3, 1, 1)\n",
    "    grayscale = (image * weights).sum(dim=1, keepdim=True)\n",
    "    return grayscale\n",
    "\n",
    "def grayscale_to_rgb(grayscale: torch.Tensor):\n",
    "    return grayscale.expand(-1, 3, -1, -1) \n",
    "\n",
    "\n",
    "def filter_1(x: torch.Tensor):#Threshold\n",
    "    arr = torch.where(x > torch.mean(x), torch.tensor(0, dtype=x.dtype, device=x.device), x)\n",
    "    return arr\n",
    "\n",
    "def filter_2(x: torch.Tensor):#Threshold and Highpass\n",
    "    image = torch.where(x > torch.mean(x), torch.tensor(0, dtype=x.dtype, device=x.device), x)\n",
    "    image = rgb_to_grayscale(image)\n",
    "    laplacian_kernel = torch.tensor([[[[ 0, -1,  0], \n",
    "                                       [-1,  4, -1], \n",
    "                                       [ 0, -1,  0]]]], dtype=torch.float32)\n",
    "    high_pass = F.conv2d(image, laplacian_kernel, padding=1)\n",
    "    high_pass = grayscale_to_rgb(high_pass)\n",
    "    return high_pass\n"
   ]
  },
  {
   "cell_type": "code",
   "execution_count": 9,
   "id": "2f077417",
   "metadata": {
    "execution": {
     "iopub.execute_input": "2025-03-26T09:48:08.561216Z",
     "iopub.status.busy": "2025-03-26T09:48:08.561018Z",
     "iopub.status.idle": "2025-03-26T09:48:08.564751Z",
     "shell.execute_reply": "2025-03-26T09:48:08.564093Z"
    },
    "papermill": {
     "duration": 0.009154,
     "end_time": "2025-03-26T09:48:08.565935",
     "exception": false,
     "start_time": "2025-03-26T09:48:08.556781",
     "status": "completed"
    },
    "tags": []
   },
   "outputs": [],
   "source": [
    "transform = transforms.Compose([\n",
    "    transforms.ToTensor(),\n",
    "    transforms.Lambda(lambda img: filter_1(img)),\n",
    "    transforms.Resize((224, 224)),\n",
    "    transforms.RandomRotation(10),\n",
    "    transforms.RandomHorizontalFlip(),\n",
    "])"
   ]
  },
  {
   "cell_type": "code",
   "execution_count": 10,
   "id": "5206b8cf",
   "metadata": {
    "execution": {
     "iopub.execute_input": "2025-03-26T09:48:08.574190Z",
     "iopub.status.busy": "2025-03-26T09:48:08.573996Z",
     "iopub.status.idle": "2025-03-26T09:48:08.597545Z",
     "shell.execute_reply": "2025-03-26T09:48:08.596980Z"
    },
    "papermill": {
     "duration": 0.029022,
     "end_time": "2025-03-26T09:48:08.598813",
     "exception": false,
     "start_time": "2025-03-26T09:48:08.569791",
     "status": "completed"
    },
    "tags": []
   },
   "outputs": [],
   "source": [
    "dataset = ImageFolder(root=path['train'],transform=transform)\n",
    "dataloader = DataLoader(dataset, batch_size=32, shuffle=True)"
   ]
  },
  {
   "cell_type": "code",
   "execution_count": 11,
   "id": "34c0612d",
   "metadata": {
    "execution": {
     "iopub.execute_input": "2025-03-26T09:48:08.607275Z",
     "iopub.status.busy": "2025-03-26T09:48:08.607080Z",
     "iopub.status.idle": "2025-03-26T09:48:10.933815Z",
     "shell.execute_reply": "2025-03-26T09:48:10.933097Z"
    },
    "papermill": {
     "duration": 2.332745,
     "end_time": "2025-03-26T09:48:10.935426",
     "exception": false,
     "start_time": "2025-03-26T09:48:08.602681",
     "status": "completed"
    },
    "tags": []
   },
   "outputs": [
    {
     "name": "stderr",
     "output_type": "stream",
     "text": [
      "/usr/local/lib/python3.10/dist-packages/torchvision/models/_utils.py:208: UserWarning: The parameter 'pretrained' is deprecated since 0.13 and may be removed in the future, please use 'weights' instead.\n",
      "  warnings.warn(\n",
      "/usr/local/lib/python3.10/dist-packages/torchvision/models/_utils.py:223: UserWarning: Arguments other than a weight enum or `None` for 'weights' are deprecated since 0.13 and may be removed in the future. The current behavior is equivalent to passing `weights=ResNet152_Weights.IMAGENET1K_V1`. You can also use `weights=ResNet152_Weights.DEFAULT` to get the most up-to-date weights.\n",
      "  warnings.warn(msg)\n",
      "Downloading: \"https://download.pytorch.org/models/resnet152-394f9c45.pth\" to /root/.cache/torch/hub/checkpoints/resnet152-394f9c45.pth\n",
      "100%|██████████| 230M/230M [00:01<00:00, 236MB/s]\n"
     ]
    }
   ],
   "source": [
    "#34,152\n",
    "model = models.resnet152(pretrained=True)\n",
    "num_ftrs = model.fc.in_features\n",
    "model.fc = torch.nn.Linear(num_ftrs, 3)"
   ]
  },
  {
   "cell_type": "code",
   "execution_count": 12,
   "id": "d3579726",
   "metadata": {
    "execution": {
     "iopub.execute_input": "2025-03-26T09:48:10.947074Z",
     "iopub.status.busy": "2025-03-26T09:48:10.946848Z",
     "iopub.status.idle": "2025-03-26T09:48:11.224450Z",
     "shell.execute_reply": "2025-03-26T09:48:11.223576Z"
    },
    "papermill": {
     "duration": 0.284945,
     "end_time": "2025-03-26T09:48:11.226049",
     "exception": false,
     "start_time": "2025-03-26T09:48:10.941104",
     "status": "completed"
    },
    "tags": []
   },
   "outputs": [],
   "source": [
    "criterion = nn.CrossEntropyLoss()\n",
    "optimizer = optim.Adam(model.parameters(), lr=0.001)\n",
    "\n",
    "device = torch.device('cuda' if torch.cuda.is_available() else 'cpu')\n",
    "model = model.to(device)\n",
    "\n",
    "loss_fn = nn.CrossEntropyLoss()"
   ]
  },
  {
   "cell_type": "markdown",
   "id": "8f3eda8e",
   "metadata": {
    "papermill": {
     "duration": 0.00461,
     "end_time": "2025-03-26T09:48:11.235833",
     "exception": false,
     "start_time": "2025-03-26T09:48:11.231223",
     "status": "completed"
    },
    "tags": []
   },
   "source": [
    "## Training"
   ]
  },
  {
   "cell_type": "markdown",
   "id": "b8ebe0a0",
   "metadata": {
    "papermill": {
     "duration": 0.004434,
     "end_time": "2025-03-26T09:48:11.244898",
     "exception": false,
     "start_time": "2025-03-26T09:48:11.240464",
     "status": "completed"
    },
    "tags": []
   },
   "source": [
    "10 epochs f1score 90640"
   ]
  },
  {
   "cell_type": "code",
   "execution_count": 13,
   "id": "09d32695",
   "metadata": {
    "execution": {
     "iopub.execute_input": "2025-03-26T09:48:11.254935Z",
     "iopub.status.busy": "2025-03-26T09:48:11.254704Z",
     "iopub.status.idle": "2025-03-26T10:16:55.526623Z",
     "shell.execute_reply": "2025-03-26T10:16:55.525327Z"
    },
    "papermill": {
     "duration": 1724.279429,
     "end_time": "2025-03-26T10:16:55.528922",
     "exception": false,
     "start_time": "2025-03-26T09:48:11.249493",
     "status": "completed"
    },
    "tags": []
   },
   "outputs": [
    {
     "name": "stdout",
     "output_type": "stream",
     "text": [
      "Epoch [5/5], Sample[247] Loss: 0.5478"
     ]
    }
   ],
   "source": [
    "epochs = 5\n",
    "\n",
    "for epoch in range(epochs):\n",
    "    model.train()\n",
    "    sample=0\n",
    "\n",
    "    for inputs, labels in dataloader:\n",
    "        sample+=1\n",
    "        inputs = inputs.to(device).float()  # Auf GPU verschieben und in float konvertieren\n",
    "        labels = labels.to(device)\n",
    "\n",
    "        outputs = model(inputs)\n",
    "        loss = criterion(outputs, labels)\n",
    "\n",
    "        optimizer.zero_grad()\n",
    "        loss.backward()\n",
    "        optimizer.step()\n",
    "\n",
    "        print(f\"\\rEpoch [{epoch+1}/{epochs}], Sample[{sample}] Loss: {loss.item():.4f}\",end=\"\")"
   ]
  },
  {
   "cell_type": "markdown",
   "id": "c5f4b861",
   "metadata": {
    "papermill": {
     "duration": 0.055267,
     "end_time": "2025-03-26T10:16:55.656835",
     "exception": false,
     "start_time": "2025-03-26T10:16:55.601568",
     "status": "completed"
    },
    "tags": []
   },
   "source": [
    "# Validierung \n"
   ]
  },
  {
   "cell_type": "code",
   "execution_count": 14,
   "id": "59930885",
   "metadata": {
    "execution": {
     "iopub.execute_input": "2025-03-26T10:16:55.793777Z",
     "iopub.status.busy": "2025-03-26T10:16:55.793430Z",
     "iopub.status.idle": "2025-03-26T10:16:55.797415Z",
     "shell.execute_reply": "2025-03-26T10:16:55.796620Z"
    },
    "papermill": {
     "duration": 0.069733,
     "end_time": "2025-03-26T10:16:55.798678",
     "exception": false,
     "start_time": "2025-03-26T10:16:55.728945",
     "status": "completed"
    },
    "tags": []
   },
   "outputs": [],
   "source": [
    "valid_transform = transforms.Compose([\n",
    "    transforms.ToTensor(),\n",
    "    transforms.Lambda(lambda img: filter_1(img)),\n",
    "    transforms.Resize((224, 224)),\n",
    "])"
   ]
  },
  {
   "cell_type": "code",
   "execution_count": 15,
   "id": "3cfe6b4c",
   "metadata": {
    "execution": {
     "iopub.execute_input": "2025-03-26T10:16:55.909889Z",
     "iopub.status.busy": "2025-03-26T10:16:55.909643Z",
     "iopub.status.idle": "2025-03-26T10:17:12.443063Z",
     "shell.execute_reply": "2025-03-26T10:17:12.442003Z"
    },
    "papermill": {
     "duration": 16.590846,
     "end_time": "2025-03-26T10:17:12.444543",
     "exception": false,
     "start_time": "2025-03-26T10:16:55.853697",
     "status": "completed"
    },
    "tags": []
   },
   "outputs": [
    {
     "name": "stdout",
     "output_type": "stream",
     "text": [
      "F1-Score: 0.6861\n"
     ]
    }
   ],
   "source": [
    "\n",
    "valid_dataset = datasets.ImageFolder(root=path['val'], transform=valid_transform)\n",
    "valid_loader = DataLoader(valid_dataset, batch_size=32, shuffle=False)\n",
    "\n",
    "model.to(device)\n",
    "model.eval()\n",
    "\n",
    "all_labels = []\n",
    "all_preds = []\n",
    "\n",
    "with torch.no_grad():\n",
    "    for inputs, labels in valid_loader:\n",
    "        inputs, labels = inputs.to(device), labels.to(device)\n",
    "        \n",
    "        outputs = model(inputs)\n",
    "        \n",
    "        _, predicted = torch.max(outputs, 1)\n",
    "\n",
    "        all_labels.extend(labels.cpu().numpy())\n",
    "        all_preds.extend(predicted.cpu().numpy())\n",
    "\n",
    "all_labels = np.where(np.array(all_labels)!=1,1,0)\n",
    "all_preds = np.where(np.array(all_preds)!=1,1,0)\n",
    "\n",
    "\n",
    "\n",
    "\n",
    "f1 = f1_score(all_labels, all_preds, average='weighted')  # Für unbalancierte Klassen ist 'weighted' sinnvoll\n",
    "print(f'F1-Score: {f1:.4f}')\n"
   ]
  },
  {
   "cell_type": "markdown",
   "id": "a0f714e4",
   "metadata": {
    "papermill": {
     "duration": 0.056017,
     "end_time": "2025-03-26T10:17:12.559087",
     "exception": false,
     "start_time": "2025-03-26T10:17:12.503070",
     "status": "completed"
    },
    "tags": []
   },
   "source": [
    "87,5  "
   ]
  },
  {
   "cell_type": "code",
   "execution_count": 16,
   "id": "994f51f4",
   "metadata": {
    "execution": {
     "iopub.execute_input": "2025-03-26T10:17:12.672730Z",
     "iopub.status.busy": "2025-03-26T10:17:12.672383Z",
     "iopub.status.idle": "2025-03-26T10:17:25.899907Z",
     "shell.execute_reply": "2025-03-26T10:17:25.898837Z"
    },
    "papermill": {
     "duration": 13.285049,
     "end_time": "2025-03-26T10:17:25.901326",
     "exception": false,
     "start_time": "2025-03-26T10:17:12.616277",
     "status": "completed"
    },
    "tags": []
   },
   "outputs": [
    {
     "name": "stdout",
     "output_type": "stream",
     "text": [
      "[0 1 1 1 1 1 1 1 0 1 1 0 1 1 1 0 1 1 1 1 1 1 0 1 1 1 1 1 1 1 1 1 1 1 0 1 0\n",
      " 1 0 1 1 1 1 1 1 1 1 0 1 1 1 1 0 1 1 1 1 1 1 1 1 0 0 1 0 1 1 1 1 0 1 1 1 1\n",
      " 1 1 0 0 1 0 1 1 0 0 1 1 0 1 0 1 1 0 1 1 1 1 1 1 0 1 1 1 1 1 1 0 1 1 0 1 1\n",
      " 0 1 1 1 1 1 0 1 1 0 0 1 0 0 1 0 1 0 1 1 1 1 0 1 1 0 1 1 1 1 1 1 1 1 1 1 1\n",
      " 1 1 1 1 1 1 1 0 0 1 1 1 0 1 1 1 1 1 0 0 1 1 0 0 1 1 1 1 1 1 0 0 1 0 0 1 1\n",
      " 1 1 1 1 1 1 0 0 0 1 1 1 1 1 1 1 0 0 1 1 1 1 1 1 1 1 1 1 1 1 1 1 1 1 1 0 1\n",
      " 1 1 0 1 1 1 0 1 1 1 1 1 1 1 1 1 1 1 1 0 1 1 1 1 1 1 0 0 0 1 1 0 1 1 1 1 1\n",
      " 1 1 1 1 0 1 1 0 1 1 0 1 1 1 1 1 0 1 1 1 1 1 1 1 1 1 0 1 0 0 1 0 0 1 1 1 1\n",
      " 1 0 0 0 0 1 1 1 1 1 0 1 1 0 1 1]\n"
     ]
    }
   ],
   "source": [
    "\n",
    "class UnlabeledDataset(Dataset):\n",
    "    def __init__(self, root_dir, transform=None):\n",
    "        self.root_dir = root_dir\n",
    "        self.transform = transform\n",
    "        self.image_paths = [os.path.join(root_dir, fname) for fname in os.listdir(root_dir)]\n",
    "\n",
    "    def __len__(self):\n",
    "        return len(self.image_paths)\n",
    "\n",
    "    def __getitem__(self, idx):\n",
    "        image_path = self.image_paths[idx]\n",
    "        image = Image.open(image_path).convert(\"RGB\")  # Stelle sicher, dass es 3 Kanäle hat\n",
    "\n",
    "        if self.transform:\n",
    "            image = self.transform(image)\n",
    "\n",
    "        return image\n",
    "\n",
    "\n",
    "\n",
    "path_unlabeled = '/kaggle/input/buw-chest-x-ray-challange/challenge_data/submission'\n",
    "unlabeled_dataset = UnlabeledDataset(root_dir=path_unlabeled, transform=valid_transform)\n",
    "unlabeled_loader = DataLoader(unlabeled_dataset, batch_size=32, shuffle=False)\n",
    "\n",
    "model.to(device)\n",
    "model.eval()\n",
    "\n",
    "all_preds = []\n",
    "\n",
    "with torch.no_grad():\n",
    "    for inputs in unlabeled_loader:\n",
    "        inputs = inputs.to(device)\n",
    "        \n",
    "        outputs = model(inputs)\n",
    "        \n",
    "        _, predicted = torch.max(outputs, 1)\n",
    "        \n",
    "        all_preds.extend(predicted.cpu().numpy())\n",
    "all_preds = np.where(np.array(all_preds)!=1,1,0)\n",
    "\n",
    "print(all_preds)"
   ]
  },
  {
   "cell_type": "code",
   "execution_count": 17,
   "id": "53d4b11b",
   "metadata": {
    "execution": {
     "iopub.execute_input": "2025-03-26T10:17:26.014173Z",
     "iopub.status.busy": "2025-03-26T10:17:26.013940Z",
     "iopub.status.idle": "2025-03-26T10:17:26.017706Z",
     "shell.execute_reply": "2025-03-26T10:17:26.017096Z"
    },
    "papermill": {
     "duration": 0.061031,
     "end_time": "2025-03-26T10:17:26.018891",
     "exception": false,
     "start_time": "2025-03-26T10:17:25.957860",
     "status": "completed"
    },
    "tags": []
   },
   "outputs": [],
   "source": [
    " filenames = [x.name for x in Path.iterdir(path['submission'])]"
   ]
  },
  {
   "cell_type": "code",
   "execution_count": 18,
   "id": "e2e5b531",
   "metadata": {
    "execution": {
     "iopub.execute_input": "2025-03-26T10:17:26.134680Z",
     "iopub.status.busy": "2025-03-26T10:17:26.134400Z",
     "iopub.status.idle": "2025-03-26T10:17:26.154185Z",
     "shell.execute_reply": "2025-03-26T10:17:26.153617Z"
    },
    "papermill": {
     "duration": 0.080944,
     "end_time": "2025-03-26T10:17:26.155422",
     "exception": false,
     "start_time": "2025-03-26T10:17:26.074478",
     "status": "completed"
    },
    "tags": []
   },
   "outputs": [],
   "source": [
    "submission = {\n",
    "    \"ID\" :filenames ,\n",
    "    \"Label\" : all_preds\n",
    "}\n",
    "df  = pd.DataFrame(submission)\n",
    "df  =df.sort_values(by=\"ID\", ascending=True)\n",
    "\n",
    "df.head()\n",
    "df.to_csv('submission.csv',index=0)\n",
    "\n"
   ]
  }
 ],
 "metadata": {
  "kaggle": {
   "accelerator": "gpu",
   "dataSources": [
    {
     "databundleVersionId": 11228668,
     "sourceId": 92495,
     "sourceType": "competition"
    }
   ],
   "dockerImageVersionId": 30919,
   "isGpuEnabled": true,
   "isInternetEnabled": true,
   "language": "python",
   "sourceType": "notebook"
  },
  "kernelspec": {
   "display_name": "Python 3",
   "language": "python",
   "name": "python3"
  },
  "language_info": {
   "codemirror_mode": {
    "name": "ipython",
    "version": 3
   },
   "file_extension": ".py",
   "mimetype": "text/x-python",
   "name": "python",
   "nbconvert_exporter": "python",
   "pygments_lexer": "ipython3",
   "version": "3.10.12"
  },
  "papermill": {
   "default_parameters": {},
   "duration": 1828.407572,
   "end_time": "2025-03-26T10:17:27.833671",
   "environment_variables": {},
   "exception": null,
   "input_path": "__notebook__.ipynb",
   "output_path": "__notebook__.ipynb",
   "parameters": {},
   "start_time": "2025-03-26T09:46:59.426099",
   "version": "2.6.0"
  }
 },
 "nbformat": 4,
 "nbformat_minor": 5
}

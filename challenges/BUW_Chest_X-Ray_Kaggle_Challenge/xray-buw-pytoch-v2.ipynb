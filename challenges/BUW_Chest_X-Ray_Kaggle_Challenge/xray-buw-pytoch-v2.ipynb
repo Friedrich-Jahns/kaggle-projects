{
 "cells": [
  {
   "cell_type": "code",
   "execution_count": 1,
   "id": "881c6c5c",
   "metadata": {
    "_cell_guid": "b1076dfc-b9ad-4769-8c92-a6c4dae69d19",
    "_uuid": "8f2839f25d086af736a60e9eeb907d3b93b6e0e5",
    "execution": {
     "iopub.execute_input": "2025-03-25T16:43:11.803752Z",
     "iopub.status.busy": "2025-03-25T16:43:11.803440Z",
     "iopub.status.idle": "2025-03-25T16:43:19.883750Z",
     "shell.execute_reply": "2025-03-25T16:43:19.882793Z"
    },
    "papermill": {
     "duration": 8.087589,
     "end_time": "2025-03-25T16:43:19.885470",
     "exception": false,
     "start_time": "2025-03-25T16:43:11.797881",
     "status": "completed"
    },
    "tags": []
   },
   "outputs": [],
   "source": [
    "import numpy as np \n",
    "import pandas as pd \n",
    "import matplotlib.pyplot as plt\n",
    "import cv2\n",
    "from PIL import Image\n",
    "import random\n",
    "\n",
    "import torch\n",
    "from torchvision.datasets import ImageFolder\n",
    "from torchvision import  transforms\n",
    "from torch.utils.data import DataLoader\n",
    "import torch.nn as nn\n",
    "import torchvision.models as models\n",
    "import torch.optim as optim\n",
    "import torch.nn.functional as F\n",
    "from torch.utils.data import Dataset\n",
    "\n",
    "import os\n",
    "from pathlib import Path\n"
   ]
  },
  {
   "cell_type": "code",
   "execution_count": 2,
   "id": "37dfe95c",
   "metadata": {
    "execution": {
     "iopub.execute_input": "2025-03-25T16:43:19.894730Z",
     "iopub.status.busy": "2025-03-25T16:43:19.894329Z",
     "iopub.status.idle": "2025-03-25T16:43:25.845452Z",
     "shell.execute_reply": "2025-03-25T16:43:25.844375Z"
    },
    "papermill": {
     "duration": 5.957147,
     "end_time": "2025-03-25T16:43:25.846875",
     "exception": false,
     "start_time": "2025-03-25T16:43:19.889728",
     "status": "completed"
    },
    "tags": []
   },
   "outputs": [
    {
     "name": "stdout",
     "output_type": "stream",
     "text": [
      "/kaggle/input/buw-chest-x-ray-challange/challenge_data/submission/SUB-137.jpeg\n",
      "/kaggle/input/buw-chest-x-ray-challange/challenge_data/submission/SUB-209.jpeg\n",
      "/kaggle/input/buw-chest-x-ray-challange/challenge_data/val/PNEUMONIA/person1947_bacteria_4876.jpeg\n",
      "/kaggle/input/buw-chest-x-ray-challange/challenge_data/val/PNEUMONIA/person1946_bacteria_4875.jpeg\n",
      "/kaggle/input/buw-chest-x-ray-challange/challenge_data/val/NORMAL/NORMAL2-IM-1431-0001.jpeg\n",
      "/kaggle/input/buw-chest-x-ray-challange/challenge_data/val/NORMAL/NORMAL2-IM-1440-0001.jpeg\n",
      "/kaggle/input/buw-chest-x-ray-challange/challenge_data/test/PNEUMONIA/person1676_virus_2892.jpeg\n",
      "/kaggle/input/buw-chest-x-ray-challange/challenge_data/test/PNEUMONIA/person1650_virus_2852.jpeg\n",
      "/kaggle/input/buw-chest-x-ray-challange/challenge_data/test/NORMAL/NORMAL2-IM-0336-0001.jpeg\n",
      "/kaggle/input/buw-chest-x-ray-challange/challenge_data/test/NORMAL/NORMAL2-IM-0337-0001.jpeg\n",
      "/kaggle/input/buw-chest-x-ray-challange/challenge_data/train/PNEUMONIA/person1180_virus_2010.jpeg\n",
      "/kaggle/input/buw-chest-x-ray-challange/challenge_data/train/PNEUMONIA/person1230_virus_2081.jpeg\n",
      "/kaggle/input/buw-chest-x-ray-challange/challenge_data/train/NORMAL/NORMAL2-IM-0771-0001.jpeg\n",
      "/kaggle/input/buw-chest-x-ray-challange/challenge_data/train/NORMAL/NORMAL2-IM-1294-0001-0002.jpeg\n"
     ]
    }
   ],
   "source": [
    "for dirname, _, filenames in os.walk('/kaggle/input'):\n",
    "    for filename in filenames[:2]:\n",
    "        print(os.path.join(dirname, filename))"
   ]
  },
  {
   "cell_type": "code",
   "execution_count": 3,
   "id": "b463dfdf",
   "metadata": {
    "execution": {
     "iopub.execute_input": "2025-03-25T16:43:25.856781Z",
     "iopub.status.busy": "2025-03-25T16:43:25.856514Z",
     "iopub.status.idle": "2025-03-25T16:43:25.859878Z",
     "shell.execute_reply": "2025-03-25T16:43:25.859234Z"
    },
    "papermill": {
     "duration": 0.009497,
     "end_time": "2025-03-25T16:43:25.860990",
     "exception": false,
     "start_time": "2025-03-25T16:43:25.851493",
     "status": "completed"
    },
    "tags": []
   },
   "outputs": [],
   "source": [
    "path = {\n",
    "    \"train\":Path('/kaggle/input/buw-chest-x-ray-challange/challenge_data/train'),\n",
    "    \"val\": Path('/kaggle/input/buw-chest-x-ray-challange/challenge_data/val') ,\n",
    "    \"test\": Path('/kaggle/input/buw-chest-x-ray-challange/challenge_data/test'),\n",
    "    \"submission\": Path('/kaggle/input/buw-chest-x-ray-challange/challenge_data/submission')\n",
    "}"
   ]
  },
  {
   "cell_type": "code",
   "execution_count": 4,
   "id": "86eced1c",
   "metadata": {
    "execution": {
     "iopub.execute_input": "2025-03-25T16:43:25.869907Z",
     "iopub.status.busy": "2025-03-25T16:43:25.869697Z",
     "iopub.status.idle": "2025-03-25T16:43:25.876754Z",
     "shell.execute_reply": "2025-03-25T16:43:25.876154Z"
    },
    "papermill": {
     "duration": 0.012775,
     "end_time": "2025-03-25T16:43:25.877924",
     "exception": false,
     "start_time": "2025-03-25T16:43:25.865149",
     "status": "completed"
    },
    "tags": []
   },
   "outputs": [],
   "source": [
    "def plot_batch(src):\n",
    "    plt.figure(figsize=(50, 20))\n",
    "    for i in range(len(src)):\n",
    "        plt.subplot(2,4,i+1)\n",
    "        plt.imshow(src[i],cmap='gray')\n",
    "        plt.axis('off')\n",
    "    for i in range(len(src)):\n",
    "        plt.subplot(2,4,i+5)\n",
    "        plt.hist(src[i].flatten(),bins=256)\n",
    "        plt.ylim(0,15000)\n",
    "        \n",
    "\n",
    "laplace_kernel = np.array([[0, 1, 0],\n",
    "                             [1, -4, 1],\n",
    "                             [0, 1, 0]])\n",
    "\n",
    "def gaussian(img,size,sigma):\n",
    "    return cv2.GaussianBlur(img, size, sigma)\n",
    "    \n",
    "def unsharp_masking(img,size,sigma):\n",
    "    return img - gaussian(img,size,sigma)"
   ]
  },
  {
   "cell_type": "code",
   "execution_count": 5,
   "id": "08cb19d4",
   "metadata": {
    "execution": {
     "iopub.execute_input": "2025-03-25T16:43:25.886762Z",
     "iopub.status.busy": "2025-03-25T16:43:25.886561Z",
     "iopub.status.idle": "2025-03-25T16:43:25.993077Z",
     "shell.execute_reply": "2025-03-25T16:43:25.992377Z"
    },
    "papermill": {
     "duration": 0.112652,
     "end_time": "2025-03-25T16:43:25.994606",
     "exception": false,
     "start_time": "2025-03-25T16:43:25.881954",
     "status": "completed"
    },
    "tags": []
   },
   "outputs": [],
   "source": [
    "img1 = plt.imread(\"/kaggle/input/buw-chest-x-ray-challange/challenge_data/val/PNEUMONIA/person1947_bacteria_4876.jpeg\")\n",
    "img2 = plt.imread(\"/kaggle/input/buw-chest-x-ray-challange/challenge_data/val/PNEUMONIA/person1946_bacteria_4875.jpeg\")\n",
    "img3 = plt.imread(\"/kaggle/input/buw-chest-x-ray-challange/challenge_data/test/PNEUMONIA/person1676_virus_2892.jpeg\")\n",
    "img4 = plt.imread(\"/kaggle/input/buw-chest-x-ray-challange/challenge_data/test/PNEUMONIA/person1650_virus_2852.jpeg\")\n",
    "img5 = plt.imread(\"/kaggle/input/buw-chest-x-ray-challange/challenge_data/val/NORMAL/NORMAL2-IM-1431-0001.jpeg\")\n",
    "\n"
   ]
  },
  {
   "cell_type": "code",
   "execution_count": 6,
   "id": "fab88c86",
   "metadata": {
    "execution": {
     "iopub.execute_input": "2025-03-25T16:43:26.003469Z",
     "iopub.status.busy": "2025-03-25T16:43:26.003209Z",
     "iopub.status.idle": "2025-03-25T16:43:26.006098Z",
     "shell.execute_reply": "2025-03-25T16:43:26.005532Z"
    },
    "papermill": {
     "duration": 0.008524,
     "end_time": "2025-03-25T16:43:26.007356",
     "exception": false,
     "start_time": "2025-03-25T16:43:25.998832",
     "status": "completed"
    },
    "tags": []
   },
   "outputs": [],
   "source": [
    "# src = [img1,img3,img5]\n",
    "\n",
    "# plot_batch(src)\n",
    "\n",
    "# src_laplace =  [cv2.filter2D(x,-1,laplace_kernel) for x in src]\n",
    "# src_laplace = [np.where(x > 15,0,x) for x in src_laplace]\n",
    "# plot_batch(src_laplace)\n",
    "\n",
    "\n",
    "# src_unsharp =  [unsharp_masking(x,(21,21),5) for x in src]\n",
    "# src_unsharp_1 = [np.where(x > 15,0,x) for x in src_unsharp]\n",
    "# src_unsharp_2 = [np.where(x < 230,0,x) for x in src_unsharp]\n",
    "# plot_batch(src_unsharp_1)\n",
    "# plot_batch(src_unsharp_2)\n",
    "\n",
    "\n",
    "# src_laplace_and_unsharp =  [cv2.filter2D(x,-1,laplace_kernel) for x in src]\n",
    "# src_laplace_and_unsharp = [np.where(x > 15,0,x) for x in src_laplace_and_unsharp]\n",
    "# src_laplace_and_unsharp = [unsharp_masking(x,(21,21),5) for x in src_laplace_and_unsharp]\n",
    "# src_laplace_and_unsharp = [np.where(x > 10,0,x) for x in src_laplace_and_unsharp]\n",
    "\n",
    "\n",
    "# plot_batch(src_laplace_and_unsharp)"
   ]
  },
  {
   "cell_type": "code",
   "execution_count": 7,
   "id": "030b537f",
   "metadata": {
    "execution": {
     "iopub.execute_input": "2025-03-25T16:43:26.015703Z",
     "iopub.status.busy": "2025-03-25T16:43:26.015495Z",
     "iopub.status.idle": "2025-03-25T16:43:26.019960Z",
     "shell.execute_reply": "2025-03-25T16:43:26.019386Z"
    },
    "papermill": {
     "duration": 0.009959,
     "end_time": "2025-03-25T16:43:26.021166",
     "exception": false,
     "start_time": "2025-03-25T16:43:26.011207",
     "status": "completed"
    },
    "tags": []
   },
   "outputs": [],
   "source": [
    "\n",
    "# def gaussian_kernel(size, sigma):\n",
    "#     kernel = np.fromfunction(\n",
    "#         lambda x, y: (1/ (2 * np.pi * sigma ** 2)) * \n",
    "#                      np.exp(-((x - (size - 1) / 2) ** 2 + (y - (size - 1) / 2) ** 2) / (2 * sigma ** 2)),\n",
    "#         (size, size)\n",
    "#     )\n",
    "#     kernel /= kernel.sum()  # Normalisierung\n",
    "#     return torch.tensor(kernel, dtype=torch.float32).unsqueeze(0).unsqueeze(0)\n",
    "\n",
    "\n",
    "def gaussian(img, size, sigma):\n",
    "    kernel = gaussian_kernel(size, sigma)\n",
    "    \n",
    "    if img.device != kernel.device:\n",
    "        kernel = kernel.to(img.device)\n",
    "    \n",
    "    blurred_image = F.conv2d(img, kernel, padding=size // 2)\n",
    "    \n",
    "    return blurred_image\n",
    "    \n",
    "def unsharp_masking(img, size, sigma):\n",
    "    blurred = gaussian(img, size, sigma)\n",
    "    unsharp_image = img - blurred\n",
    "    return unsharp_image\n",
    "\n",
    "\n",
    "\n",
    "\n",
    "\n",
    "# def filter(x: torch.Tensor):\n",
    "#     arr = x.numpy()  \n",
    "#     blurred = cv2.GaussianBlur(arr, (5, 5), 0)    \n",
    "#     arr_unsharpmasked = arr - blurred\n",
    "#     arr_unsharpmasked = arr_unsharpmasked.where(arr_unsharpmasked>15,0,arr_unsharpmasked)\n",
    "#     src_laplace =  [cv2.filter2D(arr_unsharpmasked,-1,laplace_kernel) for x in src]\n",
    "#     src_laplace = [np.where(x > 15,0,x) for x in src_laplace]\n",
    "#     return TensorImage(torch.tensor(src_laplace))\n",
    "\n",
    "\n",
    "def filter(x: torch.Tensor):\n",
    "    img = x.numpy()  \n",
    "    arr = np.where(img>np.mean(img),0,img)\n",
    "    return torch.tensor(arr)\n",
    "\n",
    "\n",
    "\n"
   ]
  },
  {
   "cell_type": "code",
   "execution_count": 8,
   "id": "606961d3",
   "metadata": {
    "execution": {
     "iopub.execute_input": "2025-03-25T16:43:26.029722Z",
     "iopub.status.busy": "2025-03-25T16:43:26.029520Z",
     "iopub.status.idle": "2025-03-25T16:43:26.097568Z",
     "shell.execute_reply": "2025-03-25T16:43:26.096905Z"
    },
    "papermill": {
     "duration": 0.073891,
     "end_time": "2025-03-25T16:43:26.099043",
     "exception": false,
     "start_time": "2025-03-25T16:43:26.025152",
     "status": "completed"
    },
    "tags": []
   },
   "outputs": [],
   "source": [
    "seed = 42\n",
    "torch.manual_seed(seed)\n",
    "np.random.seed(seed)\n",
    "random.seed(seed)\n",
    "\n",
    "# Falls CUDA genutzt wird\n",
    "if torch.cuda.is_available():\n",
    "    torch.cuda.manual_seed(seed)\n",
    "    torch.cuda.manual_seed_all(seed)  # Falls mehrere GPUs genutzt werden\n",
    "    torch.backends.cudnn.deterministic = True\n",
    "    torch.backends.cudnn.benchmark = False"
   ]
  },
  {
   "cell_type": "code",
   "execution_count": 9,
   "id": "50cd76e9",
   "metadata": {
    "execution": {
     "iopub.execute_input": "2025-03-25T16:43:26.107933Z",
     "iopub.status.busy": "2025-03-25T16:43:26.107715Z",
     "iopub.status.idle": "2025-03-25T16:43:26.111277Z",
     "shell.execute_reply": "2025-03-25T16:43:26.110671Z"
    },
    "papermill": {
     "duration": 0.009275,
     "end_time": "2025-03-25T16:43:26.112606",
     "exception": false,
     "start_time": "2025-03-25T16:43:26.103331",
     "status": "completed"
    },
    "tags": []
   },
   "outputs": [],
   "source": [
    "\n",
    "transform = transforms.Compose([\n",
    "    transforms.ToTensor(),\n",
    "    transforms.Lambda(lambda img: filter(img)),\n",
    "    transforms.Resize((224, 224)),\n",
    "    transforms.RandomRotation(10),\n",
    "    transforms.RandomHorizontalFlip(),\n",
    "])"
   ]
  },
  {
   "cell_type": "code",
   "execution_count": 10,
   "id": "56b875c4",
   "metadata": {
    "execution": {
     "iopub.execute_input": "2025-03-25T16:43:26.121044Z",
     "iopub.status.busy": "2025-03-25T16:43:26.120841Z",
     "iopub.status.idle": "2025-03-25T16:43:27.142665Z",
     "shell.execute_reply": "2025-03-25T16:43:27.141833Z"
    },
    "papermill": {
     "duration": 1.027738,
     "end_time": "2025-03-25T16:43:27.144266",
     "exception": false,
     "start_time": "2025-03-25T16:43:26.116528",
     "status": "completed"
    },
    "tags": []
   },
   "outputs": [],
   "source": [
    "dataset = ImageFolder(root=path['train'],transform=transform)\n",
    "dataloader = DataLoader(dataset, batch_size=32, shuffle=True)\n"
   ]
  },
  {
   "cell_type": "code",
   "execution_count": 11,
   "id": "add54603",
   "metadata": {
    "execution": {
     "iopub.execute_input": "2025-03-25T16:43:27.154318Z",
     "iopub.status.busy": "2025-03-25T16:43:27.153990Z",
     "iopub.status.idle": "2025-03-25T16:43:29.533661Z",
     "shell.execute_reply": "2025-03-25T16:43:29.532415Z"
    },
    "papermill": {
     "duration": 2.386468,
     "end_time": "2025-03-25T16:43:29.535640",
     "exception": false,
     "start_time": "2025-03-25T16:43:27.149172",
     "status": "completed"
    },
    "tags": []
   },
   "outputs": [
    {
     "name": "stderr",
     "output_type": "stream",
     "text": [
      "/usr/local/lib/python3.10/dist-packages/torchvision/models/_utils.py:208: UserWarning: The parameter 'pretrained' is deprecated since 0.13 and may be removed in the future, please use 'weights' instead.\n",
      "  warnings.warn(\n",
      "/usr/local/lib/python3.10/dist-packages/torchvision/models/_utils.py:223: UserWarning: Arguments other than a weight enum or `None` for 'weights' are deprecated since 0.13 and may be removed in the future. The current behavior is equivalent to passing `weights=ResNet152_Weights.IMAGENET1K_V1`. You can also use `weights=ResNet152_Weights.DEFAULT` to get the most up-to-date weights.\n",
      "  warnings.warn(msg)\n",
      "Downloading: \"https://download.pytorch.org/models/resnet152-394f9c45.pth\" to /root/.cache/torch/hub/checkpoints/resnet152-394f9c45.pth\n",
      "100%|██████████| 230M/230M [00:01<00:00, 229MB/s]\n"
     ]
    }
   ],
   "source": [
    "#34,152\n",
    "model = models.resnet152(pretrained=True)\n",
    "num_ftrs = model.fc.in_features\n",
    "model.fc = torch.nn.Linear(num_ftrs, 3)"
   ]
  },
  {
   "cell_type": "code",
   "execution_count": 12,
   "id": "73dd2e18",
   "metadata": {
    "execution": {
     "iopub.execute_input": "2025-03-25T16:43:29.553559Z",
     "iopub.status.busy": "2025-03-25T16:43:29.553024Z",
     "iopub.status.idle": "2025-03-25T16:43:29.560366Z",
     "shell.execute_reply": "2025-03-25T16:43:29.559425Z"
    },
    "papermill": {
     "duration": 0.018706,
     "end_time": "2025-03-25T16:43:29.562206",
     "exception": false,
     "start_time": "2025-03-25T16:43:29.543500",
     "status": "completed"
    },
    "tags": []
   },
   "outputs": [],
   "source": [
    "criterion = nn.CrossEntropyLoss()\n",
    "optimizer = optim.Adam(model.parameters(), lr=0.001)"
   ]
  },
  {
   "cell_type": "code",
   "execution_count": 13,
   "id": "4f15da47",
   "metadata": {
    "execution": {
     "iopub.execute_input": "2025-03-25T16:43:29.580260Z",
     "iopub.status.busy": "2025-03-25T16:43:29.579918Z",
     "iopub.status.idle": "2025-03-25T16:43:29.870156Z",
     "shell.execute_reply": "2025-03-25T16:43:29.869487Z"
    },
    "papermill": {
     "duration": 0.300744,
     "end_time": "2025-03-25T16:43:29.871729",
     "exception": false,
     "start_time": "2025-03-25T16:43:29.570985",
     "status": "completed"
    },
    "tags": []
   },
   "outputs": [],
   "source": [
    "device = torch.device('cuda' if torch.cuda.is_available() else 'cpu')\n",
    "model = model.to(device)"
   ]
  },
  {
   "cell_type": "code",
   "execution_count": 14,
   "id": "15c7b118",
   "metadata": {
    "execution": {
     "iopub.execute_input": "2025-03-25T16:43:29.882673Z",
     "iopub.status.busy": "2025-03-25T16:43:29.882414Z",
     "iopub.status.idle": "2025-03-25T16:43:29.885959Z",
     "shell.execute_reply": "2025-03-25T16:43:29.885115Z"
    },
    "papermill": {
     "duration": 0.01038,
     "end_time": "2025-03-25T16:43:29.887241",
     "exception": false,
     "start_time": "2025-03-25T16:43:29.876861",
     "status": "completed"
    },
    "tags": []
   },
   "outputs": [],
   "source": [
    "loss_fn = nn.CrossEntropyLoss()"
   ]
  },
  {
   "cell_type": "code",
   "execution_count": 15,
   "id": "2cc0fe22",
   "metadata": {
    "execution": {
     "iopub.execute_input": "2025-03-25T16:43:29.897583Z",
     "iopub.status.busy": "2025-03-25T16:43:29.897344Z",
     "iopub.status.idle": "2025-03-25T17:06:18.266140Z",
     "shell.execute_reply": "2025-03-25T17:06:18.265049Z"
    },
    "papermill": {
     "duration": 1368.375515,
     "end_time": "2025-03-25T17:06:18.267471",
     "exception": false,
     "start_time": "2025-03-25T16:43:29.891956",
     "status": "completed"
    },
    "tags": []
   },
   "outputs": [
    {
     "name": "stdout",
     "output_type": "stream",
     "text": [
      "Epoch [5/5], Sample[163] Loss: 0.2697"
     ]
    }
   ],
   "source": [
    "epochs = 5\n",
    "\n",
    "for epoch in range(epochs):\n",
    "    model.train()\n",
    "    sample=0\n",
    "\n",
    "    for inputs, labels in dataloader:\n",
    "        sample+=1\n",
    "        inputs = inputs.to(device).float()  # Auf GPU verschieben und in float konvertieren\n",
    "        labels = labels.to(device)\n",
    "\n",
    "        outputs = model(inputs)\n",
    "        loss = criterion(outputs, labels)\n",
    "\n",
    "        optimizer.zero_grad()\n",
    "        loss.backward()\n",
    "        optimizer.step()\n",
    "\n",
    "        print(f\"\\rEpoch [{epoch+1}/{epochs}], Sample[{sample}] Loss: {loss.item():.4f}\",end=\"\")"
   ]
  },
  {
   "cell_type": "markdown",
   "id": "213389f0",
   "metadata": {
    "papermill": {
     "duration": 0.038025,
     "end_time": "2025-03-25T17:06:18.344817",
     "exception": false,
     "start_time": "2025-03-25T17:06:18.306792",
     "status": "completed"
    },
    "tags": []
   },
   "source": [
    "# Validierung \n"
   ]
  },
  {
   "cell_type": "code",
   "execution_count": 16,
   "id": "d3e8fefe",
   "metadata": {
    "execution": {
     "iopub.execute_input": "2025-03-25T17:06:18.422723Z",
     "iopub.status.busy": "2025-03-25T17:06:18.422388Z",
     "iopub.status.idle": "2025-03-25T17:06:18.426556Z",
     "shell.execute_reply": "2025-03-25T17:06:18.425729Z"
    },
    "papermill": {
     "duration": 0.044374,
     "end_time": "2025-03-25T17:06:18.427784",
     "exception": false,
     "start_time": "2025-03-25T17:06:18.383410",
     "status": "completed"
    },
    "tags": []
   },
   "outputs": [],
   "source": [
    "valid_transform = transforms.Compose([\n",
    "    transforms.ToTensor(),\n",
    "    transforms.Lambda(lambda img: filter(img)),\n",
    "    transforms.Resize((224, 224)),\n",
    "])"
   ]
  },
  {
   "cell_type": "code",
   "execution_count": 17,
   "id": "63ee38ea",
   "metadata": {
    "execution": {
     "iopub.execute_input": "2025-03-25T17:06:18.507934Z",
     "iopub.status.busy": "2025-03-25T17:06:18.507626Z",
     "iopub.status.idle": "2025-03-25T17:06:20.508310Z",
     "shell.execute_reply": "2025-03-25T17:06:20.506867Z"
    },
    "papermill": {
     "duration": 2.041714,
     "end_time": "2025-03-25T17:06:20.509766",
     "exception": false,
     "start_time": "2025-03-25T17:06:18.468052",
     "status": "completed"
    },
    "tags": []
   },
   "outputs": [
    {
     "name": "stdout",
     "output_type": "stream",
     "text": [
      "F1-Score: 0.8057\n"
     ]
    }
   ],
   "source": [
    "from sklearn.metrics import f1_score\n",
    "from torch.utils.data import DataLoader\n",
    "import torch\n",
    "from torchvision import datasets\n",
    "\n",
    "\n",
    "\n",
    "\n",
    "valid_dataset = datasets.ImageFolder(root=path['val'], transform=valid_transform)\n",
    "valid_loader = DataLoader(valid_dataset, batch_size=32, shuffle=False)\n",
    "\n",
    "model.to(device)\n",
    "model.eval()\n",
    "\n",
    "all_labels = []\n",
    "all_preds = []\n",
    "\n",
    "with torch.no_grad():\n",
    "    for inputs, labels in valid_loader:\n",
    "        inputs, labels = inputs.to(device), labels.to(device)\n",
    "        \n",
    "        outputs = model(inputs)\n",
    "        \n",
    "        _, predicted = torch.max(outputs, 1)\n",
    "\n",
    "        all_labels.extend(labels.cpu().numpy())\n",
    "        all_preds.extend(predicted.cpu().numpy())\n",
    "\n",
    "f1 = f1_score(all_labels, all_preds, average='weighted')  # Für unbalancierte Klassen ist 'weighted' sinnvoll\n",
    "print(f'F1-Score: {f1:.4f}')\n"
   ]
  },
  {
   "cell_type": "code",
   "execution_count": 18,
   "id": "58eb745a",
   "metadata": {
    "execution": {
     "iopub.execute_input": "2025-03-25T17:06:20.589634Z",
     "iopub.status.busy": "2025-03-25T17:06:20.589154Z",
     "iopub.status.idle": "2025-03-25T17:06:40.231827Z",
     "shell.execute_reply": "2025-03-25T17:06:40.230793Z"
    },
    "papermill": {
     "duration": 19.683731,
     "end_time": "2025-03-25T17:06:40.233331",
     "exception": false,
     "start_time": "2025-03-25T17:06:20.549600",
     "status": "completed"
    },
    "tags": []
   },
   "outputs": [
    {
     "name": "stdout",
     "output_type": "stream",
     "text": [
      "[1, 1, 1, 1, 1, 1, 1, 1, 0, 1, 1, 0, 1, 1, 1, 0, 1, 1, 1, 1, 1, 1, 1, 1, 1, 1, 1, 1, 0, 1, 1, 1, 1, 1, 0, 1, 0, 1, 1, 1, 1, 1, 1, 1, 1, 1, 1, 0, 1, 1, 1, 1, 0, 1, 1, 1, 1, 1, 1, 1, 1, 0, 0, 1, 0, 1, 1, 1, 1, 0, 1, 1, 0, 1, 1, 1, 0, 1, 1, 0, 1, 1, 0, 1, 1, 1, 0, 0, 1, 1, 1, 0, 1, 1, 1, 1, 1, 1, 0, 1, 1, 1, 1, 1, 1, 0, 1, 1, 0, 1, 1, 0, 1, 1, 1, 1, 1, 0, 1, 1, 0, 0, 1, 0, 0, 1, 1, 1, 0, 1, 1, 1, 1, 0, 1, 1, 0, 1, 1, 1, 1, 1, 1, 1, 1, 1, 1, 1, 1, 1, 1, 1, 1, 1, 1, 0, 1, 1, 1, 1, 1, 1, 1, 1, 1, 1, 0, 0, 1, 1, 1, 0, 1, 1, 1, 1, 1, 1, 1, 0, 1, 0, 1, 1, 1, 1, 1, 1, 1, 1, 1, 0, 0, 0, 1, 1, 1, 1, 1, 1, 1, 0, 0, 0, 1, 1, 1, 1, 1, 1, 1, 1, 1, 1, 1, 1, 1, 1, 1, 1, 0, 1, 1, 1, 0, 1, 1, 1, 1, 1, 0, 0, 1, 1, 1, 1, 1, 1, 1, 1, 1, 0, 1, 1, 1, 1, 1, 1, 0, 1, 0, 1, 1, 0, 1, 1, 1, 1, 1, 1, 1, 1, 1, 1, 1, 1, 0, 1, 1, 0, 1, 1, 1, 1, 1, 0, 1, 1, 1, 1, 1, 1, 1, 1, 1, 1, 1, 0, 0, 1, 1, 0, 1, 1, 1, 1, 1, 0, 0, 0, 0, 1, 1, 1, 1, 1, 0, 1, 1, 1, 1, 1]\n"
     ]
    }
   ],
   "source": [
    "\n",
    "class UnlabeledDataset(Dataset):\n",
    "    def __init__(self, root_dir, transform=None):\n",
    "        self.root_dir = root_dir\n",
    "        self.transform = transform\n",
    "        self.image_paths = [os.path.join(root_dir, fname) for fname in os.listdir(root_dir)]\n",
    "\n",
    "    def __len__(self):\n",
    "        return len(self.image_paths)\n",
    "\n",
    "    def __getitem__(self, idx):\n",
    "        image_path = self.image_paths[idx]\n",
    "        image = Image.open(image_path).convert(\"RGB\")  # Stelle sicher, dass es 3 Kanäle hat\n",
    "\n",
    "        if self.transform:\n",
    "            image = self.transform(image)\n",
    "\n",
    "        return image\n",
    "\n",
    "\n",
    "\n",
    "path_unlabeled = '/kaggle/input/buw-chest-x-ray-challange/challenge_data/submission'\n",
    "unlabeled_dataset = UnlabeledDataset(root_dir=path_unlabeled, transform=valid_transform)\n",
    "unlabeled_loader = DataLoader(unlabeled_dataset, batch_size=32, shuffle=False)\n",
    "\n",
    "model.to(device)\n",
    "model.eval()\n",
    "\n",
    "all_preds = []\n",
    "\n",
    "with torch.no_grad():\n",
    "    for inputs in unlabeled_loader:\n",
    "        inputs = inputs.to(device)\n",
    "        \n",
    "        outputs = model(inputs)\n",
    "        \n",
    "        _, predicted = torch.max(outputs, 1)\n",
    "        \n",
    "        all_preds.extend(predicted.cpu().numpy())\n",
    "\n",
    "print(all_preds)"
   ]
  },
  {
   "cell_type": "code",
   "execution_count": 19,
   "id": "d3518259",
   "metadata": {
    "execution": {
     "iopub.execute_input": "2025-03-25T17:06:40.312739Z",
     "iopub.status.busy": "2025-03-25T17:06:40.312435Z",
     "iopub.status.idle": "2025-03-25T17:06:40.316822Z",
     "shell.execute_reply": "2025-03-25T17:06:40.316055Z"
    },
    "papermill": {
     "duration": 0.04507,
     "end_time": "2025-03-25T17:06:40.317983",
     "exception": false,
     "start_time": "2025-03-25T17:06:40.272913",
     "status": "completed"
    },
    "tags": []
   },
   "outputs": [],
   "source": [
    " filenames = [x.name for x in Path.iterdir(path['submission'])]"
   ]
  },
  {
   "cell_type": "code",
   "execution_count": 20,
   "id": "b50552c9",
   "metadata": {
    "execution": {
     "iopub.execute_input": "2025-03-25T17:06:40.396756Z",
     "iopub.status.busy": "2025-03-25T17:06:40.396454Z",
     "iopub.status.idle": "2025-03-25T17:06:40.417273Z",
     "shell.execute_reply": "2025-03-25T17:06:40.416594Z"
    },
    "papermill": {
     "duration": 0.061717,
     "end_time": "2025-03-25T17:06:40.418644",
     "exception": false,
     "start_time": "2025-03-25T17:06:40.356927",
     "status": "completed"
    },
    "tags": []
   },
   "outputs": [],
   "source": [
    "submission = {\n",
    "    \"ID\" :filenames ,\n",
    "    \"Label\" : all_preds\n",
    "}\n",
    "df  = pd.DataFrame(submission)\n",
    "df  =df.sort_values(by=\"ID\", ascending=True)\n",
    "\n",
    "df.head()\n",
    "df.to_csv('submission.csv',index=0)\n",
    "\n"
   ]
  }
 ],
 "metadata": {
  "kaggle": {
   "accelerator": "gpu",
   "dataSources": [
    {
     "databundleVersionId": 11228668,
     "sourceId": 92495,
     "sourceType": "competition"
    }
   ],
   "dockerImageVersionId": 30919,
   "isGpuEnabled": true,
   "isInternetEnabled": true,
   "language": "python",
   "sourceType": "notebook"
  },
  "kernelspec": {
   "display_name": "Python 3",
   "language": "python",
   "name": "python3"
  },
  "language_info": {
   "codemirror_mode": {
    "name": "ipython",
    "version": 3
   },
   "file_extension": ".py",
   "mimetype": "text/x-python",
   "name": "python",
   "nbconvert_exporter": "python",
   "pygments_lexer": "ipython3",
   "version": "3.10.12"
  },
  "papermill": {
   "default_parameters": {},
   "duration": 1413.099321,
   "end_time": "2025-03-25T17:06:42.282745",
   "environment_variables": {},
   "exception": null,
   "input_path": "__notebook__.ipynb",
   "output_path": "__notebook__.ipynb",
   "parameters": {},
   "start_time": "2025-03-25T16:43:09.183424",
   "version": "2.6.0"
  }
 },
 "nbformat": 4,
 "nbformat_minor": 5
}
